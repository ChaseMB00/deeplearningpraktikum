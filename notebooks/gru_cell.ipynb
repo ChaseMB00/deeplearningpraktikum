{
 "cells": [
  {
   "cell_type": "code",
   "id": "initial_id",
   "metadata": {
    "collapsed": true,
    "ExecuteTime": {
     "end_time": "2025-04-04T08:29:36.800365Z",
     "start_time": "2025-04-04T08:29:33.187837Z"
    }
   },
   "source": [
    "import tensorflow as tf\n",
    "import keras"
   ],
   "outputs": [],
   "execution_count": 1
  },
  {
   "metadata": {
    "ExecuteTime": {
     "end_time": "2025-04-04T08:38:48.798082Z",
     "start_time": "2025-04-04T08:38:48.789789Z"
    }
   },
   "cell_type": "code",
   "source": [
    "layer = keras.layers.GRU(1, stateful=True)\n",
    "layers_s = keras.layers.GRU(2, return_sequences=True, return_state=True)"
   ],
   "id": "ced6a7e6bfffa747",
   "outputs": [],
   "execution_count": 27
  },
  {
   "metadata": {
    "ExecuteTime": {
     "end_time": "2025-04-04T08:35:10.514337Z",
     "start_time": "2025-04-04T08:35:10.504754Z"
    }
   },
   "cell_type": "code",
   "source": [
    "tokens = tf.constant([[1, 2.1, 3, 4], [1, 2, 3, 4], [0, 2, 3, 4]])\n",
    "print(tokens.shape)\n",
    "inp_tensor = tf.reshape(tokens, (1, 3, 4))\n",
    "print(layer(inp_tensor))"
   ],
   "id": "881a13087356951f",
   "outputs": [
    {
     "name": "stdout",
     "output_type": "stream",
     "text": [
      "(3, 4)\n",
      "tf.Tensor([[-0.6243828]], shape=(1, 1), dtype=float32)\n"
     ]
    }
   ],
   "execution_count": 23
  },
  {
   "metadata": {
    "ExecuteTime": {
     "end_time": "2025-04-04T08:38:51.767633Z",
     "start_time": "2025-04-04T08:38:51.742226Z"
    }
   },
   "cell_type": "code",
   "source": "print(layers_s(inp_tensor))",
   "id": "36676ac7fbed8fff",
   "outputs": [
    {
     "name": "stdout",
     "output_type": "stream",
     "text": [
      "(<tf.Tensor: shape=(1, 3, 2), dtype=float32, numpy=\n",
      "array([[[ 0.04352026, -0.3750272 ],\n",
      "        [ 0.10543108, -0.597564  ],\n",
      "        [ 0.17990828, -0.6830113 ]]], dtype=float32)>, <tf.Tensor: shape=(2,), dtype=float32, numpy=array([ 0.17990828, -0.6830113 ], dtype=float32)>)\n"
     ]
    }
   ],
   "execution_count": 28
  },
  {
   "metadata": {
    "ExecuteTime": {
     "end_time": "2025-04-04T08:40:29.702480Z",
     "start_time": "2025-04-04T08:40:29.691833Z"
    }
   },
   "cell_type": "code",
   "source": [
    "(output, state) = layers_s(inp_tensor)\n",
    "print(output)\n",
    "print(state)"
   ],
   "id": "1058de352b460dc2",
   "outputs": [
    {
     "name": "stdout",
     "output_type": "stream",
     "text": [
      "tf.Tensor(\n",
      "[[[ 0.04352026 -0.3750272 ]\n",
      "  [ 0.10543108 -0.597564  ]\n",
      "  [ 0.17990828 -0.6830113 ]]], shape=(1, 3, 2), dtype=float32)\n",
      "tf.Tensor([ 0.17990828 -0.6830113 ], shape=(2,), dtype=float32)\n"
     ]
    }
   ],
   "execution_count": 29
  },
  {
   "metadata": {},
   "cell_type": "code",
   "outputs": [],
   "execution_count": null,
   "source": "",
   "id": "8f8e127c03c4a6a9"
  }
 ],
 "metadata": {
  "kernelspec": {
   "display_name": "Python 3",
   "language": "python",
   "name": "python3"
  },
  "language_info": {
   "codemirror_mode": {
    "name": "ipython",
    "version": 2
   },
   "file_extension": ".py",
   "mimetype": "text/x-python",
   "name": "python",
   "nbconvert_exporter": "python",
   "pygments_lexer": "ipython2",
   "version": "2.7.6"
  }
 },
 "nbformat": 4,
 "nbformat_minor": 5
}
