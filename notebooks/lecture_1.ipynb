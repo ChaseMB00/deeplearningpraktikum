{
 "cells": [
  {
   "cell_type": "code",
   "id": "initial_id",
   "metadata": {
    "collapsed": true,
    "ExecuteTime": {
     "end_time": "2025-03-13T10:41:34.099841Z",
     "start_time": "2025-03-13T10:41:34.095574Z"
    }
   },
   "source": "x = 1",
   "outputs": [],
   "execution_count": 1
  },
  {
   "metadata": {
    "ExecuteTime": {
     "end_time": "2025-03-13T10:42:44.395063Z",
     "start_time": "2025-03-13T10:42:44.392745Z"
    }
   },
   "cell_type": "code",
   "source": "list = [\"a\", \"b\", \"c\"]",
   "id": "fce98a6ef8d9e30e",
   "outputs": [],
   "execution_count": 2
  },
  {
   "metadata": {
    "ExecuteTime": {
     "end_time": "2025-03-13T13:35:12.084109Z",
     "start_time": "2025-03-13T13:35:12.078884Z"
    }
   },
   "cell_type": "code",
   "source": [
    "def fun(x,\n",
    "        w,\n",
    "        b=0,\n",
    "        act=None,\n",
    "        ):\n",
    "    sum = 0\n",
    "    for i in range(len(x)):\n",
    "        sum += w[i] * x[i]\n",
    "    sum = sum + b\n",
    "    if act is not None:\n",
    "        sum = act(sum)\n",
    "    return sum\n",
    "\n",
    "\n",
    "x1 = [1.4, 0.2]\n",
    "x2 = [1.7, 0.2]\n",
    "x3 = [4.7, 1.4]\n",
    "x4 = [4.0, 1.3]\n",
    "w = [1, -4]\n",
    "\n",
    "\n",
    "def act1(x):\n",
    "    return 1 if x > 0 else 0\n",
    "\n",
    "\n",
    "fun(x1, w, act=act1)"
   ],
   "id": "a7ed12c4ae757345",
   "outputs": [
    {
     "data": {
      "text/plain": [
       "1"
      ]
     },
     "execution_count": 29,
     "metadata": {},
     "output_type": "execute_result"
    }
   ],
   "execution_count": 29
  },
  {
   "metadata": {
    "ExecuteTime": {
     "end_time": "2025-03-13T14:05:37.951397Z",
     "start_time": "2025-03-13T14:05:37.947961Z"
    }
   },
   "cell_type": "code",
   "source": [
    "class Decision:\n",
    "    def __init__(self,\n",
    "                 w,\n",
    "                 b=0,\n",
    "                 act=None\n",
    "                 ):\n",
    "        self.w = w\n",
    "        self.b = b\n",
    "        self.act = act if act is not None else lambda x: x\n",
    "\n",
    "    def predict(self,\n",
    "                x\n",
    "                ):\n",
    "        return fun(x, self.w, self.b, self.act)\n",
    "\n",
    "\n",
    "d = Decision(w, act=act1)"
   ],
   "id": "9d57aed7a18c23c0",
   "outputs": [],
   "execution_count": 30
  },
  {
   "metadata": {
    "ExecuteTime": {
     "end_time": "2025-03-13T14:05:56.468474Z",
     "start_time": "2025-03-13T14:05:56.465807Z"
    }
   },
   "cell_type": "code",
   "source": "d.predict(x4)",
   "id": "4d2e7117a2e50f2",
   "outputs": [
    {
     "data": {
      "text/plain": [
       "0"
      ]
     },
     "execution_count": 34,
     "metadata": {},
     "output_type": "execute_result"
    }
   ],
   "execution_count": 34
  }
 ],
 "metadata": {
  "kernelspec": {
   "display_name": "Python 3",
   "language": "python",
   "name": "python3"
  },
  "language_info": {
   "codemirror_mode": {
    "name": "ipython",
    "version": 2
   },
   "file_extension": ".py",
   "mimetype": "text/x-python",
   "name": "python",
   "nbconvert_exporter": "python",
   "pygments_lexer": "ipython2",
   "version": "2.7.6"
  }
 },
 "nbformat": 4,
 "nbformat_minor": 5
}
