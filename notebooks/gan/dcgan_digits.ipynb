{
 "cells": [
  {
   "metadata": {},
   "cell_type": "raw",
   "source": "",
   "id": "85681fd2b3bda758"
  },
  {
   "metadata": {
    "ExecuteTime": {
     "end_time": "2025-06-04T21:46:29.678123Z",
     "start_time": "2025-06-04T21:46:28.598641Z"
    }
   },
   "cell_type": "code",
   "source": "%pip install imageio",
   "id": "4c4fbd147a79781d",
   "outputs": [
    {
     "name": "stdout",
     "output_type": "stream",
     "text": [
      "Requirement already satisfied: imageio in /opt/conda/lib/python3.12/site-packages (2.37.0)\r\n",
      "Requirement already satisfied: numpy in /opt/conda/lib/python3.12/site-packages (from imageio) (1.26.4)\r\n",
      "Requirement already satisfied: pillow>=8.3.2 in /opt/conda/lib/python3.12/site-packages (from imageio) (11.1.0)\r\n",
      "Note: you may need to restart the kernel to use updated packages.\n"
     ]
    }
   ],
   "execution_count": 1
  },
  {
   "metadata": {
    "ExecuteTime": {
     "end_time": "2025-06-04T21:46:32.949301Z",
     "start_time": "2025-06-04T21:46:29.942284Z"
    }
   },
   "cell_type": "code",
   "source": [
    "import glob\n",
    "import imageio\n",
    "import matplotlib.pyplot as plt\n",
    "import numpy as np\n",
    "import os\n",
    "import PIL\n",
    "from tensorflow.keras import layers\n",
    "import time\n",
    "from tensorflow import keras\n",
    "import tensorflow as tf\n",
    "\n",
    "from IPython import display"
   ],
   "id": "6267cf71b39294bd",
   "outputs": [
    {
     "name": "stderr",
     "output_type": "stream",
     "text": [
      "2025-06-04 21:46:30.669108: E external/local_xla/xla/stream_executor/cuda/cuda_fft.cc:485] Unable to register cuFFT factory: Attempting to register factory for plugin cuFFT when one has already been registered\n",
      "2025-06-04 21:46:30.690026: E external/local_xla/xla/stream_executor/cuda/cuda_dnn.cc:8454] Unable to register cuDNN factory: Attempting to register factory for plugin cuDNN when one has already been registered\n",
      "2025-06-04 21:46:30.696355: E external/local_xla/xla/stream_executor/cuda/cuda_blas.cc:1452] Unable to register cuBLAS factory: Attempting to register factory for plugin cuBLAS when one has already been registered\n",
      "2025-06-04 21:46:30.713597: I tensorflow/core/platform/cpu_feature_guard.cc:210] This TensorFlow binary is optimized to use available CPU instructions in performance-critical operations.\n",
      "To enable the following instructions: AVX2 FMA, in other operations, rebuild TensorFlow with the appropriate compiler flags.\n",
      "2025-06-04 21:46:31.573458: W tensorflow/compiler/tf2tensorrt/utils/py_utils.cc:38] TF-TRT Warning: Could not find TensorRT\n"
     ]
    }
   ],
   "execution_count": 2
  },
  {
   "metadata": {},
   "cell_type": "markdown",
   "source": [
    "### Load the MNIST digits dataset\n",
    "We have to do a little bit of preprocessing to get the images into the right format for training. This part is different to the Fashion-MNIST dataset."
   ],
   "id": "a0e863414d29931f"
  },
  {
   "metadata": {
    "ExecuteTime": {
     "end_time": "2025-06-04T21:46:33.579588Z",
     "start_time": "2025-06-04T21:46:33.388426Z"
    }
   },
   "cell_type": "code",
   "source": [
    "(mnist_images, mnist_labels), (mnist_images_test, mnist_labels_test) = keras.datasets.mnist.load_data()\n",
    "mnist_images.shape"
   ],
   "id": "6e76afe26d00ae92",
   "outputs": [
    {
     "data": {
      "text/plain": [
       "(60000, 28, 28)"
      ]
     },
     "execution_count": 3,
     "metadata": {},
     "output_type": "execute_result"
    }
   ],
   "execution_count": 3
  },
  {
   "metadata": {
    "ExecuteTime": {
     "end_time": "2025-06-04T21:46:33.728874Z",
     "start_time": "2025-06-04T21:46:33.726534Z"
    }
   },
   "cell_type": "code",
   "source": [
    "BUFFER_SIZE = 60000\n",
    "BATCH_SIZE = 256"
   ],
   "id": "c83b00786ab85837",
   "outputs": [],
   "execution_count": 4
  },
  {
   "metadata": {
    "ExecuteTime": {
     "end_time": "2025-06-04T21:46:34.028964Z",
     "start_time": "2025-06-04T21:46:33.873316Z"
    }
   },
   "cell_type": "code",
   "source": [
    "# Batch and shuffle the data\n",
    "train_dataset = tf.data.Dataset.from_tensor_slices(mnist_images).shuffle(BUFFER_SIZE).batch(BATCH_SIZE)"
   ],
   "id": "c65e0fe34a0eaec3",
   "outputs": [
    {
     "name": "stderr",
     "output_type": "stream",
     "text": [
      "2025-06-04 21:46:33.932063: E external/local_xla/xla/stream_executor/cuda/cuda_driver.cc:266] failed call to cuInit: CUDA_ERROR_NO_DEVICE: no CUDA-capable device is detected\n"
     ]
    }
   ],
   "execution_count": 5
  },
  {
   "metadata": {},
   "cell_type": "markdown",
   "source": [
    "### Define the Generator Model\n",
    "The generator model takes random noise as input and generates images. It uses transposed convolutional layers to upsample the noise into a 28x28 image."
   ],
   "id": "e42745c95b283622"
  },
  {
   "metadata": {
    "ExecuteTime": {
     "end_time": "2025-06-04T21:46:34.264647Z",
     "start_time": "2025-06-04T21:46:34.258147Z"
    }
   },
   "cell_type": "code",
   "source": [
    "def make_generator_model():\n",
    "    model = keras.Sequential()\n",
    "    # Start with an Input layer as recommended\n",
    "    model.add(layers.Input(shape=(100,)))\n",
    "    model.add(layers.Dense(7*7*256, use_bias=False))\n",
    "    model.add(layers.BatchNormalization())\n",
    "    model.add(layers.LeakyReLU())\n",
    "\n",
    "    # Use Reshape instead of reshape\n",
    "    model.add(layers.Reshape((7, 7, 256)))\n",
    "    assert model.output_shape == (None, 7, 7, 256)  # Note: None is the batch size\n",
    "\n",
    "    model.add(layers.Conv2DTranspose(128, (5, 5), strides=(1, 1), padding='same', use_bias=False))\n",
    "    assert model.output_shape == (None, 7, 7, 128)\n",
    "    model.add(layers.BatchNormalization())\n",
    "    model.add(layers.LeakyReLU())\n",
    "\n",
    "    model.add(layers.Conv2DTranspose(64, (5, 5), strides=(2, 2), padding='same', use_bias=False))\n",
    "    assert model.output_shape == (None, 14, 14, 64)\n",
    "    model.add(layers.BatchNormalization())\n",
    "    model.add(layers.LeakyReLU())\n",
    "\n",
    "    model.add(layers.Conv2DTranspose(1, (5, 5), strides=(2, 2), padding='same', use_bias=False, activation='tanh'))\n",
    "    assert model.output_shape == (None, 28, 28, 1)\n",
    "    return model"
   ],
   "id": "694b26a6e7bf8793",
   "outputs": [],
   "execution_count": 6
  },
  {
   "metadata": {},
   "cell_type": "markdown",
   "source": [
    "### Generate an Image\n",
    "The following code generates a random image using the generator model. It creates a noise vector of shape (1, 100) and passes it through the generator to produce an image."
   ],
   "id": "69f96d8d126dd1a6"
  },
  {
   "metadata": {
    "ExecuteTime": {
     "end_time": "2025-06-04T21:46:34.703257Z",
     "start_time": "2025-06-04T21:46:34.460783Z"
    }
   },
   "cell_type": "code",
   "source": [
    "generator = make_generator_model()\n",
    "\n",
    "noise = tf.random.normal([1, 100])\n",
    "generated_image = generator(noise, training=False)\n",
    "\n",
    "plt.imshow(generated_image[0, :, :, 0], cmap='gray')"
   ],
   "id": "a869e22f6e42dd3c",
   "outputs": [
    {
     "data": {
      "text/plain": [
       "<matplotlib.image.AxesImage at 0x7f023bb5bbf0>"
      ]
     },
     "execution_count": 7,
     "metadata": {},
     "output_type": "execute_result"
    },
    {
     "data": {
      "text/plain": [
       "<Figure size 640x480 with 1 Axes>"
      ],
      "image/png": "[encoded data removed]"
     },
     "metadata": {},
     "output_type": "display_data"
    }
   ],
   "execution_count": 7
  },
  {
   "metadata": {},
   "cell_type": "markdown",
   "source": [
    "### Define the Discriminator\n",
    "The discriminator is a convolutional neural network that classifies images as real (from the dataset) or fake (generated by the generator). It uses convolutional layers, LeakyReLU activations, and dropout for regularization."
   ],
   "id": "c2ddafac54fd9a50"
  },
  {
   "metadata": {
    "ExecuteTime": {
     "end_time": "2025-06-04T21:46:34.954579Z",
     "start_time": "2025-06-04T21:46:34.950542Z"
    }
   },
   "cell_type": "code",
   "source": [
    "def make_discriminator_model():\n",
    "    model = keras.Sequential()\n",
    "    model.add(layers.Conv2D(64, (5, 5), strides=(2, 2), padding='same', input_shape=[28, 28, 1]))\n",
    "    model.add(layers.LeakyReLU())\n",
    "    model.add(layers.Dropout(0.3))\n",
    "\n",
    "    model.add(layers.Conv2D(128, (5, 5), strides=(2, 2), padding='same'))\n",
    "    model.add(layers.LeakyReLU())\n",
    "    model.add(layers.Dropout(0.3))\n",
    "\n",
    "    model.add(layers.Flatten())\n",
    "    model.add(layers.Dense(1))\n",
    "    return model"
   ],
   "id": "eda6fd543b78a75c",
   "outputs": [],
   "execution_count": 8
  },
  {
   "metadata": {
    "ExecuteTime": {
     "end_time": "2025-06-04T21:46:35.282085Z",
     "start_time": "2025-06-04T21:46:35.212430Z"
    }
   },
   "cell_type": "code",
   "source": [
    "discriminator = make_discriminator_model()\n",
    "decision = discriminator(generated_image)\n",
    "print (decision)"
   ],
   "id": "d62e7c836bade1c0",
   "outputs": [
    {
     "name": "stdout",
     "output_type": "stream",
     "text": [
      "tf.Tensor([[0.00163518]], shape=(1, 1), dtype=float32)\n"
     ]
    },
    {
     "name": "stderr",
     "output_type": "stream",
     "text": [
      "/opt/conda/lib/python3.12/site-packages/keras/src/layers/convolutional/base_conv.py:107: UserWarning: Do not pass an `input_shape`/`input_dim` argument to a layer. When using Sequential models, prefer using an `Input(shape)` object as the first layer in the model instead.\n",
      "  super().__init__(activity_regularizer=activity_regularizer, **kwargs)\n"
     ]
    }
   ],
   "execution_count": 9
  },
  {
   "metadata": {},
   "cell_type": "markdown",
   "source": [
    "### Define Loss Functions\n",
    "The loss function for the discriminator is binary cross-entropy, which measures how well the discriminator distinguishes between real and fake images. The generator's loss is also based on binary cross-entropy, where it tries to fool the discriminator into classifying generated images as real."
   ],
   "id": "2f192d87eb901124"
  },
  {
   "metadata": {
    "ExecuteTime": {
     "end_time": "2025-06-04T21:46:35.463484Z",
     "start_time": "2025-06-04T21:46:35.459993Z"
    }
   },
   "cell_type": "code",
   "source": [
    "# This method returns a helper function to compute cross entropy loss\n",
    "cross_entropy = tf.keras.losses.BinaryCrossentropy(from_logits=True)"
   ],
   "id": "c87f00204efa5156",
   "outputs": [],
   "execution_count": 10
  },
  {
   "metadata": {
    "ExecuteTime": {
     "end_time": "2025-06-04T21:46:35.682651Z",
     "start_time": "2025-06-04T21:46:35.678861Z"
    }
   },
   "cell_type": "code",
   "source": [
    "def discriminator_loss(real_output, fake_output):\n",
    "    real_loss = cross_entropy(tf.ones_like(real_output), real_output)\n",
    "    fake_loss = cross_entropy(tf.zeros_like(fake_output), fake_output)\n",
    "    total_loss = real_loss + fake_loss\n",
    "    return total_loss"
   ],
   "id": "7b1b32a5c33420db",
   "outputs": [],
   "execution_count": 11
  },
  {
   "metadata": {
    "ExecuteTime": {
     "end_time": "2025-06-04T21:46:35.867292Z",
     "start_time": "2025-06-04T21:46:35.863961Z"
    }
   },
   "cell_type": "code",
   "source": [
    "def generator_loss(fake_output):\n",
    "    return cross_entropy(tf.ones_like(fake_output), fake_output)"
   ],
   "id": "93599a7240bad642",
   "outputs": [],
   "execution_count": 12
  },
  {
   "metadata": {},
   "cell_type": "markdown",
   "source": "## Training Loop",
   "id": "ae2a2c8bebe0c1c1"
  },
  {
   "metadata": {
    "ExecuteTime": {
     "end_time": "2025-06-04T21:46:36.053636Z",
     "start_time": "2025-06-04T21:46:36.049050Z"
    }
   },
   "cell_type": "code",
   "source": [
    "EPOCHS = 50\n",
    "noise_dim = 100\n",
    "num_examples_to_generate = 16\n",
    "\n",
    "# You will reuse this seed overtime (so it's easier)\n",
    "# to visualize progress in the animated GIF)\n",
    "seed = tf.random.normal([num_examples_to_generate, noise_dim])"
   ],
   "id": "22142d21749ea331",
   "outputs": [],
   "execution_count": 13
  },
  {
   "metadata": {},
   "cell_type": "markdown",
   "source": [
    "### Training step\n",
    "The training step involves generating fake images from random noise, passing both real and fake images through the discriminator, calculating losses for both the generator and discriminator, and applying gradients to update their weights."
   ],
   "id": "21e73e4adb2d9e46"
  },
  {
   "metadata": {
    "ExecuteTime": {
     "end_time": "2025-06-04T21:46:36.296733Z",
     "start_time": "2025-06-04T21:46:36.280227Z"
    }
   },
   "cell_type": "code",
   "source": [
    "# Notice the use of `tf.function`\n",
    "# This annotation causes the function to be \"compiled\".\n",
    "generator_optimizer = tf.keras.optimizers.Adam(1e-4)\n",
    "discriminator_optimizer = tf.keras.optimizers.Adam(1e-4)\n",
    "\n",
    "@tf.function\n",
    "def train_step(images):\n",
    "    noise = tf.random.normal([BATCH_SIZE, noise_dim])\n",
    "\n",
    "    with tf.GradientTape() as gen_tape, tf.GradientTape() as disc_tape:\n",
    "        generated_images = generator(noise, training=True)\n",
    "        real_output = discriminator(images, training=True)\n",
    "        fake_output = discriminator(generated_images, training=True)\n",
    "\n",
    "        gen_loss = generator_loss(fake_output)\n",
    "        disc_loss = discriminator_loss(real_output, fake_output)\n",
    "\n",
    "    gradients_of_generator = gen_tape.gradient(gen_loss, generator.trainable_variables)\n",
    "    gradients_of_discriminator = disc_tape.gradient(disc_loss, discriminator.trainable_variables)\n",
    "\n",
    "    generator_optimizer.apply_gradients(zip(gradients_of_generator, generator.trainable_variables))\n",
    "    discriminator_optimizer.apply_gradients(zip(gradients_of_discriminator, discriminator.trainable_variables))"
   ],
   "id": "af4d86e803f8b15e",
   "outputs": [],
   "execution_count": 14
  },
  {
   "metadata": {},
   "cell_type": "markdown",
   "source": [
    "### Train the Model\n",
    "This function iterates through the dataset for a specified number of epochs, calling the `train_step` function for each batch of images. It also generates and saves images at the end of each epoch to visualize the generator's progress."
   ],
   "id": "31ff457fd4195cd7"
  },
  {
   "metadata": {
    "ExecuteTime": {
     "end_time": "2025-06-04T21:46:36.478503Z",
     "start_time": "2025-06-04T21:46:36.473752Z"
    }
   },
   "cell_type": "code",
   "source": [
    "def train(dataset, epochs):\n",
    "    for epoch in range(epochs):\n",
    "        start = time.time()\n",
    "\n",
    "        for image_batch in dataset:\n",
    "            train_step(image_batch)\n",
    "\n",
    "            #Produce Gif\n",
    "            display.clear_output(wait=True)\n",
    "            generate_and_save_images(generator, epoch + 1, seed)\n",
    "\n",
    "            print('Time taken for epoch {} is {} sec'.format(epoch + 1, time.time() - start))\n",
    "\n",
    "        display.clear_output(wait=True)\n",
    "        generate_and_save_images(generator, epochs, seed)"
   ],
   "id": "56c8e608afe1a4e1",
   "outputs": [],
   "execution_count": 15
  },
  {
   "metadata": {},
   "cell_type": "markdown",
   "source": [
    "### Generate and Save Images\n",
    "This is just for visualization purposes. It generates images from the generator model and saves them to disk. The images are displayed in a grid format."
   ],
   "id": "a6b63f27c327cb64"
  },
  {
   "metadata": {
    "ExecuteTime": {
     "end_time": "2025-06-04T21:46:36.711390Z",
     "start_time": "2025-06-04T21:46:36.706471Z"
    }
   },
   "cell_type": "code",
   "source": [
    "def generate_and_save_images(model, epoch, test_input):\n",
    "  # Notice `training` is set to False.\n",
    "  # This is so all layers run in inference mode (batchnorm).\n",
    "  predictions = model(test_input, training=False)\n",
    "\n",
    "  fig = plt.figure(figsize=(4, 4))\n",
    "\n",
    "  for i in range(predictions.shape[0]):\n",
    "      plt.subplot(4, 4, i+1)\n",
    "      plt.imshow(predictions[i, :, :, 0] * 127.5 + 127.5, cmap='gray')\n",
    "      plt.axis('off')\n",
    "\n",
    "  plt.savefig('image_at_epoch_{:04d}.png'.format(epoch))\n",
    "  plt.show()"
   ],
   "id": "d3111ddd92a26884",
   "outputs": [],
   "execution_count": 16
  },
  {
   "metadata": {
    "jupyter": {
     "is_executing": true
    }
   },
   "cell_type": "code",
   "source": "train(train_dataset, EPOCHS)",
   "id": "74c108472bf1c483",
   "execution_count": null,
   "outputs": []
  },
  {
   "metadata": {},
   "cell_type": "code",
   "outputs": [],
   "execution_count": null,
   "source": [
    "# Display a single image using the epoch number\n",
    "def display_image(epoch_no):\n",
    "  return PIL.Image.open('image_at_epoch_{:04d}.png'.format(epoch_no))"
   ],
   "id": "8dd87b4fa12f5a16"
  },
  {
   "metadata": {},
   "cell_type": "code",
   "outputs": [],
   "execution_count": null,
   "source": "display_image(EPOCHS)",
   "id": "f93b2b2168263d6e"
  },
  {
   "metadata": {},
   "cell_type": "markdown",
   "source": "### Create an animated GIF",
   "id": "5f0417d4158cdaa5"
  },
  {
   "metadata": {},
   "cell_type": "code",
   "outputs": [],
   "execution_count": null,
   "source": [
    "anim_file = 'dcgan.gif'\n",
    "\n",
    "with imageio.get_writer(anim_file, mode='I') as writer:\n",
    "  filenames = glob.glob('image*.png')\n",
    "  filenames = sorted(filenames)\n",
    "  for filename in filenames:\n",
    "    image = imageio.imread(filename)\n",
    "    writer.append_data(image)\n",
    "  image = imageio.imread(filename)\n",
    "  writer.append_data(image)"
   ],
   "id": "8fd260711ad1bdd7"
  },
  {
   "metadata": {},
   "cell_type": "code",
   "outputs": [],
   "execution_count": null,
   "source": [
    "import tensorflow_docs.vis.embed as embed\n",
    "embed.embed_file(anim_file)\n"
   ],
   "id": "bee8e22845c06d20"
  }
 ],
 "metadata": {
  "kernelspec": {
   "display_name": "Python 3 (ipykernel)",
   "language": "python",
   "name": "python3"
  },
  "language_info": {
   "codemirror_mode": {
    "name": "ipython",
    "version": 2
   },
   "file_extension": ".py",
   "mimetype": "text/x-python",
   "name": "python",
   "nbconvert_exporter": "python",
   "pygments_lexer": "ipython2",
   "version": "2.7.6"
  }
 },
 "nbformat": 4,
 "nbformat_minor": 5
}
