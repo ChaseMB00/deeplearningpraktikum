{
 "cells": [
  {
   "metadata": {},
   "cell_type": "markdown",
   "source": [
    "# Task\n",
    "Erstellen Sie 2 GANs: Dense bzw. convolutional, Trainingsdaten: Ziffern und Mode (aus der VL) - in Summe 4 Modelle. Orientieren Sie sich an: https://www.tensorflow.org/tutorials/generative/dcgan"
   ],
   "id": "bb44599b9726a6df"
  },
  {
   "metadata": {},
   "cell_type": "markdown",
   "source": [
    "Wie kann ich convolutional (model.add(layers.Conv2DTranspose(128, (5, 5), strides=(1, 1), padding='same', use_bias=False)))\n",
    "oder dens (   model.add(layers.Dense(7*7*256, use_bias=False))) verwenden also am ende 4 netze bekommen?\n",
    "\n",
    "ist damit generator netz und discriminator netz gemeint?"
   ],
   "id": "f9cc6bf6f16de17c"
  }
 ],
 "metadata": {
  "kernelspec": {
   "display_name": "Python 3",
   "language": "python",
   "name": "python3"
  },
  "language_info": {
   "codemirror_mode": {
    "name": "ipython",
    "version": 2
   },
   "file_extension": ".py",
   "mimetype": "text/x-python",
   "name": "python",
   "nbconvert_exporter": "python",
   "pygments_lexer": "ipython2",
   "version": "2.7.6"
  }
 },
 "nbformat": 4,
 "nbformat_minor": 5
}
