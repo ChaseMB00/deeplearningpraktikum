{
 "cells": [
  {
   "cell_type": "code",
   "id": "initial_id",
   "metadata": {
    "collapsed": true,
    "ExecuteTime": {
     "end_time": "2025-04-11T09:39:40.424649Z",
     "start_time": "2025-04-11T09:39:35.827817Z"
    }
   },
   "source": [
    "import torch\n",
    "from torch.utils.data import Dataset\n",
    "from torchvision import datasets\n",
    "from torchvision.transforms import ToTensor\n",
    "from torch import nn\n",
    "from torch.utils.data import DataLoader\n",
    "import matplotlib.pyplot as plt\n",
    "\n",
    "training_data = datasets.FashionMNIST(\n",
    "        root=\"data\",\n",
    "        train=True,\n",
    "        download=True,\n",
    "        transform=ToTensor()\n",
    "        )\n",
    "\n",
    "test_data = datasets.FashionMNIST(\n",
    "        root=\"data\",\n",
    "        train=False,\n",
    "        download=True,\n",
    "        transform=ToTensor()\n",
    "        )\n",
    "train_dataloader = DataLoader(training_data, batch_size=64, shuffle=True)\n",
    "test_dataloader = DataLoader(test_data, batch_size=64, shuffle=True)"
   ],
   "outputs": [
    {
     "name": "stderr",
     "output_type": "stream",
     "text": [
      "100%|██████████| 26.4M/26.4M [00:01<00:00, 16.3MB/s]\n",
      "100%|██████████| 29.5k/29.5k [00:00<00:00, 1.87MB/s]\n",
      "100%|██████████| 4.42M/4.42M [00:00<00:00, 12.8MB/s]\n",
      "100%|██████████| 5.15k/5.15k [00:00<00:00, 18.2MB/s]\n"
     ]
    }
   ],
   "execution_count": 1
  },
  {
   "metadata": {
    "ExecuteTime": {
     "end_time": "2025-04-11T09:42:09.588551Z",
     "start_time": "2025-04-11T09:42:09.585593Z"
    }
   },
   "cell_type": "code",
   "source": [
    "device = torch.accelerator.current_accelerator().type if torch.accelerator.is_available() else \"cpu\"\n",
    "print(f\"Using {device} device\")"
   ],
   "id": "dc23b790e55fc55c",
   "outputs": [
    {
     "name": "stdout",
     "output_type": "stream",
     "text": [
      "Using mps device\n"
     ]
    }
   ],
   "execution_count": 4
  },
  {
   "metadata": {
    "ExecuteTime": {
     "end_time": "2025-04-11T09:42:56.051893Z",
     "start_time": "2025-04-11T09:42:55.932100Z"
    }
   },
   "cell_type": "code",
   "source": [
    "t1 = torch.tensor([1.0, 2.0, 3.0]).to(device)\n",
    "t2 = torch.tensor([4.0, 5.0, 6.0])\n",
    "t1 + t2"
   ],
   "id": "884e35f2c0a5155e",
   "outputs": [
    {
     "ename": "RuntimeError",
     "evalue": "Expected all tensors to be on the same device, but found at least two devices, mps:0 and cpu!",
     "output_type": "error",
     "traceback": [
      "\u001B[31m---------------------------------------------------------------------------\u001B[39m",
      "\u001B[31mRuntimeError\u001B[39m                              Traceback (most recent call last)",
      "\u001B[36mCell\u001B[39m\u001B[36m \u001B[39m\u001B[32mIn[6]\u001B[39m\u001B[32m, line 3\u001B[39m\n\u001B[32m      1\u001B[39m t1 = torch.tensor([\u001B[32m1.0\u001B[39m, \u001B[32m2.0\u001B[39m, \u001B[32m3.0\u001B[39m]).to(device)\n\u001B[32m      2\u001B[39m t2 = torch.tensor([\u001B[32m4.0\u001B[39m, \u001B[32m5.0\u001B[39m, \u001B[32m6.0\u001B[39m])\n\u001B[32m----> \u001B[39m\u001B[32m3\u001B[39m \u001B[43mt1\u001B[49m\u001B[43m+\u001B[49m\u001B[43mt2\u001B[49m\n",
      "\u001B[31mRuntimeError\u001B[39m: Expected all tensors to be on the same device, but found at least two devices, mps:0 and cpu!"
     ]
    }
   ],
   "execution_count": 6
  },
  {
   "metadata": {
    "ExecuteTime": {
     "end_time": "2025-04-11T09:47:02.879544Z",
     "start_time": "2025-04-11T09:47:02.870754Z"
    }
   },
   "cell_type": "code",
   "source": [
    "class NeuralNetwork(nn.Module):\n",
    "    def __init__(self, nr_neurons=128):\n",
    "        super().__init__()\n",
    "        self.flatten = nn.Flatten()\n",
    "        self.linear_relu_stack = nn.Sequential(\n",
    "                nn.Linear(28 * 28, nr_neurons),\n",
    "                nn.ReLU(),\n",
    "                nn.Linear(nr_neurons, nr_neurons),\n",
    "                nn.SELU(),\n",
    "                nn.Linear(nr_neurons, 10)\n",
    "                )\n",
    "\n",
    "    def forward(self, x):\n",
    "        x = self.flatten(x)\n",
    "        logits = self.linear_relu_stack(x)\n",
    "        return logits\n",
    "\n",
    "\n",
    "model = NeuralNetwork(nr_neurons=64).to(device)\n",
    "print(model)"
   ],
   "id": "8de546970f2c877e",
   "outputs": [
    {
     "name": "stdout",
     "output_type": "stream",
     "text": [
      "NeuralNetwork(\n",
      "  (flatten): Flatten(start_dim=1, end_dim=-1)\n",
      "  (linear_relu_stack): Sequential(\n",
      "    (0): Linear(in_features=784, out_features=64, bias=True)\n",
      "    (1): ReLU()\n",
      "    (2): Linear(in_features=64, out_features=64, bias=True)\n",
      "    (3): SELU()\n",
      "    (4): Linear(in_features=64, out_features=10, bias=True)\n",
      "  )\n",
      ")\n"
     ]
    }
   ],
   "execution_count": 7
  },
  {
   "metadata": {
    "ExecuteTime": {
     "end_time": "2025-04-11T09:48:14.812794Z",
     "start_time": "2025-04-11T09:48:14.028690Z"
    }
   },
   "cell_type": "code",
   "source": [
    "X = torch.rand(1, 28, 28, device=device)\n",
    "print(X.shape)\n",
    "logits = model(X)\n",
    "print(logits)\n",
    "pred_probab = nn.Softmax(dim=1)(logits)\n",
    "print(pred_probab)\n",
    "y_pred = pred_probab.argmax(1)\n",
    "print(f\"Predicted class: {y_pred}\")"
   ],
   "id": "89c5bd0ce5ce6c43",
   "outputs": [
    {
     "name": "stdout",
     "output_type": "stream",
     "text": [
      "torch.Size([1, 28, 28])\n",
      "tensor([[ 0.1647,  0.0572, -0.0734,  0.1695, -0.1053,  0.1051, -0.0323, -0.0561,\n",
      "          0.2587,  0.0950]], device='mps:0', grad_fn=<LinearBackward0>)\n",
      "tensor([[0.1105, 0.0992, 0.0871, 0.1110, 0.0843, 0.1041, 0.0907, 0.0886, 0.1214,\n",
      "         0.1030]], device='mps:0', grad_fn=<SoftmaxBackward0>)\n",
      "Predicted class: tensor([8], device='mps:0')\n"
     ]
    }
   ],
   "execution_count": 8
  },
  {
   "metadata": {
    "ExecuteTime": {
     "end_time": "2025-04-11T09:50:38.780749Z",
     "start_time": "2025-04-11T09:50:38.778268Z"
    }
   },
   "cell_type": "code",
   "source": [
    "loss_fn = nn.CrossEntropyLoss()\n",
    "optimizer = torch.optim.SGD(model.parameters(), lr=1e-2)"
   ],
   "id": "bd880af57576ed02",
   "outputs": [],
   "execution_count": 9
  },
  {
   "metadata": {
    "ExecuteTime": {
     "end_time": "2025-04-11T09:55:04.290717Z",
     "start_time": "2025-04-11T09:55:04.283419Z"
    }
   },
   "cell_type": "code",
   "source": [
    "X = train_dataloader.dataset[0][0].to(device)\n",
    "print(X.shape)\n",
    "y = train_dataloader.dataset[0][1]\n",
    "print(f\"Class: {y}\")\n",
    "y = torch.tensor(y).to(device)\n",
    "y = y.reshape(1, )\n",
    "print(y.shape)\n",
    "model.train()\n",
    "pred = model(X)\n",
    "loss = loss_fn(pred, torch.tensor(y).to(device))\n",
    "print(f\"Predicted class: {pred.argmax(1)}\")\n",
    "print(f\"Loss: {loss.item()}\")\n",
    "# Backpropagation\n",
    "loss.backward()\n",
    "optimizer.step()\n",
    "optimizer.zero_grad()"
   ],
   "id": "ee97ba0eda2cd3a4",
   "outputs": [
    {
     "name": "stdout",
     "output_type": "stream",
     "text": [
      "torch.Size([1, 28, 28])\n",
      "Class: 9\n",
      "torch.Size([1])\n",
      "Predicted class: tensor([9], device='mps:0')\n",
      "Loss: 0.01793699711561203\n"
     ]
    },
    {
     "name": "stderr",
     "output_type": "stream",
     "text": [
      "/var/folders/fn/631f5l8d60s9dlhzgthzclk80000gn/T/ipykernel_13711/3267360804.py:10: UserWarning: To copy construct from a tensor, it is recommended to use sourceTensor.clone().detach() or sourceTensor.clone().detach().requires_grad_(True), rather than torch.tensor(sourceTensor).\n",
      "  loss = loss_fn(pred, torch.tensor(y).to(device))\n"
     ]
    }
   ],
   "execution_count": 59
  },
  {
   "metadata": {
    "ExecuteTime": {
     "end_time": "2025-04-11T09:57:49.735228Z",
     "start_time": "2025-04-11T09:57:45.358993Z"
    }
   },
   "cell_type": "code",
   "source": [
    "dataloader = train_dataloader\n",
    "size = len(dataloader.dataset)\n",
    "# Set the model to training mode - important for batch normalization and dropout layers\n",
    "# Unnecessary in this situation but added for best practices\n",
    "model.train()\n",
    "for batch, (X, y) in enumerate(dataloader):\n",
    "    # Compute prediction and loss\n",
    "    pred = model(X.to(device))\n",
    "    loss = loss_fn(pred, torch.tensor(y).to(device))\n",
    "\n",
    "    # Backpropagation\n",
    "    loss.backward()\n",
    "    optimizer.step()\n",
    "    optimizer.zero_grad()\n",
    "\n",
    "    if batch % 100 == 0:\n",
    "        loss, current = loss.item(), batch * dataloader.batch_size + len(X)\n",
    "        print(f\"loss: {loss:>7f}  [{current:>5d}/{size:>5d}]\")"
   ],
   "id": "d69d810c68ca1a6",
   "outputs": [
    {
     "name": "stderr",
     "output_type": "stream",
     "text": [
      "/var/folders/fn/631f5l8d60s9dlhzgthzclk80000gn/T/ipykernel_13711/1996300626.py:9: UserWarning: To copy construct from a tensor, it is recommended to use sourceTensor.clone().detach() or sourceTensor.clone().detach().requires_grad_(True), rather than torch.tensor(sourceTensor).\n",
      "  loss = loss_fn(pred, torch.tensor(y).to(device))\n"
     ]
    },
    {
     "name": "stdout",
     "output_type": "stream",
     "text": [
      "loss: 3.440949  [   64/60000]\n",
      "loss: 1.795173  [ 6464/60000]\n",
      "loss: 1.436284  [12864/60000]\n",
      "loss: 1.217893  [19264/60000]\n",
      "loss: 0.978774  [25664/60000]\n",
      "loss: 1.016475  [32064/60000]\n",
      "loss: 0.847417  [38464/60000]\n",
      "loss: 0.769276  [44864/60000]\n",
      "loss: 0.913644  [51264/60000]\n",
      "loss: 0.618301  [57664/60000]\n"
     ]
    }
   ],
   "execution_count": 60
  }
 ],
 "metadata": {
  "kernelspec": {
   "display_name": "Python 3",
   "language": "python",
   "name": "python3"
  },
  "language_info": {
   "codemirror_mode": {
    "name": "ipython",
    "version": 2
   },
   "file_extension": ".py",
   "mimetype": "text/x-python",
   "name": "python",
   "nbconvert_exporter": "python",
   "pygments_lexer": "ipython2",
   "version": "2.7.6"
  }
 },
 "nbformat": 4,
 "nbformat_minor": 5
}
