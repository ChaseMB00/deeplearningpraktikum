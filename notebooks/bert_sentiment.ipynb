{
 "cells": [
  {
   "metadata": {
    "ExecuteTime": {
     "end_time": "2025-04-25T08:22:34.392613Z",
     "start_time": "2025-04-25T08:22:30.531335Z"
    }
   },
   "cell_type": "code",
   "source": [
    "import tensorflow as tf\n",
    "import tensorflow_datasets as tfds\n",
    "import keras_hub"
   ],
   "id": "f0b9e5d584f8c1c7",
   "outputs": [],
   "execution_count": 1
  },
  {
   "metadata": {},
   "cell_type": "markdown",
   "source": "## Daten aufbereiten",
   "id": "6f154c1f0c0149f8"
  },
  {
   "cell_type": "code",
   "id": "initial_id",
   "metadata": {
    "collapsed": true,
    "ExecuteTime": {
     "end_time": "2025-04-25T10:58:46.029996Z",
     "start_time": "2025-04-25T10:58:45.984933Z"
    }
   },
   "source": "raw_train_ds, raw_val_ds = tfds.load('imdb_reviews', split=['train', 'test'])",
   "outputs": [],
   "execution_count": 34
  },
  {
   "metadata": {
    "ExecuteTime": {
     "end_time": "2025-04-25T10:58:46.893444Z",
     "start_time": "2025-04-25T10:58:46.867312Z"
    }
   },
   "cell_type": "code",
   "source": [
    "for x in raw_train_ds.take(1):\n",
    "    print(x)"
   ],
   "id": "c19f312eaf27399c",
   "outputs": [
    {
     "name": "stdout",
     "output_type": "stream",
     "text": [
      "{'label': <tf.Tensor: shape=(), dtype=int64, numpy=0>, 'text': <tf.Tensor: shape=(), dtype=string, numpy=b\"This was an absolutely terrible movie. Don't be lured in by Christopher Walken or Michael Ironside. Both are great actors, but this must simply be their worst role in history. Even their great acting could not redeem this movie's ridiculous storyline. This movie is an early nineties US propaganda piece. The most pathetic scenes were those when the Columbian rebels were making their cases for revolutions. Maria Conchita Alonso appeared phony, and her pseudo-love affair with Walken was nothing but a pathetic emotional plug in a movie that was devoid of any real meaning. I am disappointed that there are movies like this, ruining actor's like Christopher Walken's good name. I could barely sit through it.\">}\n"
     ]
    },
    {
     "name": "stderr",
     "output_type": "stream",
     "text": [
      "2025-04-25 12:58:46.890265: W tensorflow/core/kernels/data/cache_dataset_ops.cc:914] The calling iterator did not fully read the dataset being cached. In order to avoid unexpected truncation of the dataset, the partially cached contents of the dataset  will be discarded. This can happen if you have an input pipeline similar to `dataset.cache().take(k).repeat()`. You should use `dataset.take(k).cache().repeat()` instead.\n"
     ]
    }
   ],
   "execution_count": 35
  },
  {
   "metadata": {
    "ExecuteTime": {
     "end_time": "2025-04-25T11:02:38.896152Z",
     "start_time": "2025-04-25T11:02:38.872988Z"
    }
   },
   "cell_type": "code",
   "source": [
    "train_ds = raw_train_ds.map(lambda x: (x['text'], x['label']))\n",
    "for (x, y) in train_ds.take(1):\n",
    "    print(x)\n",
    "    print(y)"
   ],
   "id": "1a5de2e4bf77c5d1",
   "outputs": [
    {
     "name": "stdout",
     "output_type": "stream",
     "text": [
      "tf.Tensor(b\"This was an absolutely terrible movie. Don't be lured in by Christopher Walken or Michael Ironside. Both are great actors, but this must simply be their worst role in history. Even their great acting could not redeem this movie's ridiculous storyline. This movie is an early nineties US propaganda piece. The most pathetic scenes were those when the Columbian rebels were making their cases for revolutions. Maria Conchita Alonso appeared phony, and her pseudo-love affair with Walken was nothing but a pathetic emotional plug in a movie that was devoid of any real meaning. I am disappointed that there are movies like this, ruining actor's like Christopher Walken's good name. I could barely sit through it.\", shape=(), dtype=string)\n",
      "tf.Tensor(0, shape=(), dtype=int64)\n"
     ]
    }
   ],
   "execution_count": 50
  },
  {
   "metadata": {
    "ExecuteTime": {
     "end_time": "2025-04-25T11:02:41.125417Z",
     "start_time": "2025-04-25T11:02:41.116311Z"
    }
   },
   "cell_type": "code",
   "source": [
    "train_ds = train_ds.shuffle(1000).batch(128).prefetch(tf.data.AUTOTUNE)\n",
    "val_ds = raw_val_ds.shuffle(1000).take(2500).map(lambda x: (x['text'], x['label'])).batch(128).prefetch(\n",
    "        tf.data.AUTOTUNE\n",
    "        )"
   ],
   "id": "aaccb7a27af856bc",
   "outputs": [],
   "execution_count": 51
  },
  {
   "metadata": {},
   "cell_type": "markdown",
   "source": "## Erster Versuch",
   "id": "f239a80a371017ca"
  },
  {
   "metadata": {
    "ExecuteTime": {
     "end_time": "2025-04-25T10:59:06.593272Z",
     "start_time": "2025-04-25T10:59:06.507895Z"
    }
   },
   "cell_type": "code",
   "source": [
    "bert_name = \"bert_tiny_en_uncased\"\n",
    "tokenizer = keras_hub.models.BertTokenizer.from_preset(bert_name)\n",
    "text = \"This is a test\"\n",
    "text_tk = tokenizer(text)\n",
    "print(text_tk)"
   ],
   "id": "57dc84f9f62f4de6",
   "outputs": [
    {
     "name": "stdout",
     "output_type": "stream",
     "text": [
      "tf.Tensor([2023 2003 1037 3231], shape=(4,), dtype=int32)\n"
     ]
    }
   ],
   "execution_count": 40
  },
  {
   "metadata": {
    "ExecuteTime": {
     "end_time": "2025-04-25T10:59:09.149599Z",
     "start_time": "2025-04-25T10:59:08.515396Z"
    }
   },
   "cell_type": "code",
   "source": [
    "preprocessor = keras_hub.models.BertPreprocessor.from_preset(bert_name)\n",
    "backbone = keras_hub.models.BertBackbone.from_preset(bert_name)"
   ],
   "id": "56152a9b00ad38f4",
   "outputs": [],
   "execution_count": 41
  },
  {
   "metadata": {
    "ExecuteTime": {
     "end_time": "2025-04-25T10:59:12.304290Z",
     "start_time": "2025-04-25T10:59:12.241669Z"
    }
   },
   "cell_type": "code",
   "source": [
    "inp = preprocessor([\"hallo\", \"this is a test\"])\n",
    "y = backbone(inp)\n",
    "print(y.keys())\n",
    "print(y['pooled_output'].shape)\n",
    "print(y['sequence_output'].shape)"
   ],
   "id": "9e57d28fafc136d2",
   "outputs": [
    {
     "name": "stdout",
     "output_type": "stream",
     "text": [
      "dict_keys(['sequence_output', 'pooled_output'])\n",
      "(2, 128)\n",
      "(2, 512, 128)\n"
     ]
    }
   ],
   "execution_count": 42
  },
  {
   "metadata": {
    "ExecuteTime": {
     "end_time": "2025-04-25T11:08:54.176944Z",
     "start_time": "2025-04-25T11:08:53.994515Z"
    }
   },
   "cell_type": "code",
   "source": [
    "backbone.trainable = False\n",
    "\n",
    "input = tf.keras.Input(shape=(), dtype=tf.string, name='text')\n",
    "output = backbone(preprocessor(input))\n",
    "net = output['pooled_output']\n",
    "#net = output['sequence_output'][:, -1, :]\n",
    "# net = tf.keras.layers.Dropout(0.1)(net)\n",
    "net = tf.keras.layers.Dense(512, activation='selu')(net)\n",
    "net = tf.keras.layers.Dense(512, activation='relu')(net)\n",
    "net = tf.keras.layers.Dense(128, activation='selu')(net)\n",
    "net = tf.keras.layers.Dense(1, activation='sigmoid')(net)\n",
    "model = tf.keras.Model(input, net)\n",
    "model.summary()"
   ],
   "id": "53a93d41ac26517d",
   "outputs": [
    {
     "data": {
      "text/plain": [
       "\u001B[1mModel: \"functional_7\"\u001B[0m\n"
      ],
      "text/html": [
       "<pre style=\"white-space:pre;overflow-x:auto;line-height:normal;font-family:Menlo,'DejaVu Sans Mono',consolas,'Courier New',monospace\"><span style=\"font-weight: bold\">Model: \"functional_7\"</span>\n",
       "</pre>\n"
      ]
     },
     "metadata": {},
     "output_type": "display_data"
    },
    {
     "data": {
      "text/plain": [
       "┏━━━━━━━━━━━━━━━━━━━━━┳━━━━━━━━━━━━━━━━━━━┳━━━━━━━━━━━━┳━━━━━━━━━━━━━━━━━━━┓\n",
       "┃\u001B[1m \u001B[0m\u001B[1mLayer (type)       \u001B[0m\u001B[1m \u001B[0m┃\u001B[1m \u001B[0m\u001B[1mOutput Shape     \u001B[0m\u001B[1m \u001B[0m┃\u001B[1m \u001B[0m\u001B[1m   Param #\u001B[0m\u001B[1m \u001B[0m┃\u001B[1m \u001B[0m\u001B[1mConnected to     \u001B[0m\u001B[1m \u001B[0m┃\n",
       "┡━━━━━━━━━━━━━━━━━━━━━╇━━━━━━━━━━━━━━━━━━━╇━━━━━━━━━━━━╇━━━━━━━━━━━━━━━━━━━┩\n",
       "│ text (\u001B[38;5;33mInputLayer\u001B[0m)   │ (\u001B[38;5;45mNone\u001B[0m)            │          \u001B[38;5;34m0\u001B[0m │ -                 │\n",
       "├─────────────────────┼───────────────────┼────────────┼───────────────────┤\n",
       "│ bert_text_classifi… │ [(\u001B[38;5;45mNone\u001B[0m, \u001B[38;5;34m512\u001B[0m),     │          \u001B[38;5;34m0\u001B[0m │ text[\u001B[38;5;34m0\u001B[0m][\u001B[38;5;34m0\u001B[0m]        │\n",
       "│ (\u001B[38;5;33mBertTextClassifie…\u001B[0m │ (\u001B[38;5;45mNone\u001B[0m, \u001B[38;5;34m512\u001B[0m),      │            │                   │\n",
       "│                     │ (\u001B[38;5;45mNone\u001B[0m, \u001B[38;5;34m512\u001B[0m)]      │            │                   │\n",
       "├─────────────────────┼───────────────────┼────────────┼───────────────────┤\n",
       "│ bert_backbone       │ [(\u001B[38;5;45mNone\u001B[0m, \u001B[38;5;34m128\u001B[0m),     │  \u001B[38;5;34m4,385,920\u001B[0m │ bert_text_classi… │\n",
       "│ (\u001B[38;5;33mBertBackbone\u001B[0m)      │ (\u001B[38;5;45mNone\u001B[0m, \u001B[38;5;34m512\u001B[0m, \u001B[38;5;34m128\u001B[0m)] │            │ bert_text_classi… │\n",
       "│                     │                   │            │ bert_text_classi… │\n",
       "├─────────────────────┼───────────────────┼────────────┼───────────────────┤\n",
       "│ dense_19 (\u001B[38;5;33mDense\u001B[0m)    │ (\u001B[38;5;45mNone\u001B[0m, \u001B[38;5;34m512\u001B[0m)       │     \u001B[38;5;34m66,048\u001B[0m │ bert_backbone[\u001B[38;5;34m4\u001B[0m]… │\n",
       "├─────────────────────┼───────────────────┼────────────┼───────────────────┤\n",
       "│ dense_20 (\u001B[38;5;33mDense\u001B[0m)    │ (\u001B[38;5;45mNone\u001B[0m, \u001B[38;5;34m512\u001B[0m)       │    \u001B[38;5;34m262,656\u001B[0m │ dense_19[\u001B[38;5;34m0\u001B[0m][\u001B[38;5;34m0\u001B[0m]    │\n",
       "├─────────────────────┼───────────────────┼────────────┼───────────────────┤\n",
       "│ dense_21 (\u001B[38;5;33mDense\u001B[0m)    │ (\u001B[38;5;45mNone\u001B[0m, \u001B[38;5;34m128\u001B[0m)       │     \u001B[38;5;34m65,664\u001B[0m │ dense_20[\u001B[38;5;34m0\u001B[0m][\u001B[38;5;34m0\u001B[0m]    │\n",
       "├─────────────────────┼───────────────────┼────────────┼───────────────────┤\n",
       "│ dense_22 (\u001B[38;5;33mDense\u001B[0m)    │ (\u001B[38;5;45mNone\u001B[0m, \u001B[38;5;34m1\u001B[0m)         │        \u001B[38;5;34m129\u001B[0m │ dense_21[\u001B[38;5;34m0\u001B[0m][\u001B[38;5;34m0\u001B[0m]    │\n",
       "└─────────────────────┴───────────────────┴────────────┴───────────────────┘\n"
      ],
      "text/html": [
       "<pre style=\"white-space:pre;overflow-x:auto;line-height:normal;font-family:Menlo,'DejaVu Sans Mono',consolas,'Courier New',monospace\">┏━━━━━━━━━━━━━━━━━━━━━┳━━━━━━━━━━━━━━━━━━━┳━━━━━━━━━━━━┳━━━━━━━━━━━━━━━━━━━┓\n",
       "┃<span style=\"font-weight: bold\"> Layer (type)        </span>┃<span style=\"font-weight: bold\"> Output Shape      </span>┃<span style=\"font-weight: bold\">    Param # </span>┃<span style=\"font-weight: bold\"> Connected to      </span>┃\n",
       "┡━━━━━━━━━━━━━━━━━━━━━╇━━━━━━━━━━━━━━━━━━━╇━━━━━━━━━━━━╇━━━━━━━━━━━━━━━━━━━┩\n",
       "│ text (<span style=\"color: #0087ff; text-decoration-color: #0087ff\">InputLayer</span>)   │ (<span style=\"color: #00d7ff; text-decoration-color: #00d7ff\">None</span>)            │          <span style=\"color: #00af00; text-decoration-color: #00af00\">0</span> │ -                 │\n",
       "├─────────────────────┼───────────────────┼────────────┼───────────────────┤\n",
       "│ bert_text_classifi… │ [(<span style=\"color: #00d7ff; text-decoration-color: #00d7ff\">None</span>, <span style=\"color: #00af00; text-decoration-color: #00af00\">512</span>),     │          <span style=\"color: #00af00; text-decoration-color: #00af00\">0</span> │ text[<span style=\"color: #00af00; text-decoration-color: #00af00\">0</span>][<span style=\"color: #00af00; text-decoration-color: #00af00\">0</span>]        │\n",
       "│ (<span style=\"color: #0087ff; text-decoration-color: #0087ff\">BertTextClassifie…</span> │ (<span style=\"color: #00d7ff; text-decoration-color: #00d7ff\">None</span>, <span style=\"color: #00af00; text-decoration-color: #00af00\">512</span>),      │            │                   │\n",
       "│                     │ (<span style=\"color: #00d7ff; text-decoration-color: #00d7ff\">None</span>, <span style=\"color: #00af00; text-decoration-color: #00af00\">512</span>)]      │            │                   │\n",
       "├─────────────────────┼───────────────────┼────────────┼───────────────────┤\n",
       "│ bert_backbone       │ [(<span style=\"color: #00d7ff; text-decoration-color: #00d7ff\">None</span>, <span style=\"color: #00af00; text-decoration-color: #00af00\">128</span>),     │  <span style=\"color: #00af00; text-decoration-color: #00af00\">4,385,920</span> │ bert_text_classi… │\n",
       "│ (<span style=\"color: #0087ff; text-decoration-color: #0087ff\">BertBackbone</span>)      │ (<span style=\"color: #00d7ff; text-decoration-color: #00d7ff\">None</span>, <span style=\"color: #00af00; text-decoration-color: #00af00\">512</span>, <span style=\"color: #00af00; text-decoration-color: #00af00\">128</span>)] │            │ bert_text_classi… │\n",
       "│                     │                   │            │ bert_text_classi… │\n",
       "├─────────────────────┼───────────────────┼────────────┼───────────────────┤\n",
       "│ dense_19 (<span style=\"color: #0087ff; text-decoration-color: #0087ff\">Dense</span>)    │ (<span style=\"color: #00d7ff; text-decoration-color: #00d7ff\">None</span>, <span style=\"color: #00af00; text-decoration-color: #00af00\">512</span>)       │     <span style=\"color: #00af00; text-decoration-color: #00af00\">66,048</span> │ bert_backbone[<span style=\"color: #00af00; text-decoration-color: #00af00\">4</span>]… │\n",
       "├─────────────────────┼───────────────────┼────────────┼───────────────────┤\n",
       "│ dense_20 (<span style=\"color: #0087ff; text-decoration-color: #0087ff\">Dense</span>)    │ (<span style=\"color: #00d7ff; text-decoration-color: #00d7ff\">None</span>, <span style=\"color: #00af00; text-decoration-color: #00af00\">512</span>)       │    <span style=\"color: #00af00; text-decoration-color: #00af00\">262,656</span> │ dense_19[<span style=\"color: #00af00; text-decoration-color: #00af00\">0</span>][<span style=\"color: #00af00; text-decoration-color: #00af00\">0</span>]    │\n",
       "├─────────────────────┼───────────────────┼────────────┼───────────────────┤\n",
       "│ dense_21 (<span style=\"color: #0087ff; text-decoration-color: #0087ff\">Dense</span>)    │ (<span style=\"color: #00d7ff; text-decoration-color: #00d7ff\">None</span>, <span style=\"color: #00af00; text-decoration-color: #00af00\">128</span>)       │     <span style=\"color: #00af00; text-decoration-color: #00af00\">65,664</span> │ dense_20[<span style=\"color: #00af00; text-decoration-color: #00af00\">0</span>][<span style=\"color: #00af00; text-decoration-color: #00af00\">0</span>]    │\n",
       "├─────────────────────┼───────────────────┼────────────┼───────────────────┤\n",
       "│ dense_22 (<span style=\"color: #0087ff; text-decoration-color: #0087ff\">Dense</span>)    │ (<span style=\"color: #00d7ff; text-decoration-color: #00d7ff\">None</span>, <span style=\"color: #00af00; text-decoration-color: #00af00\">1</span>)         │        <span style=\"color: #00af00; text-decoration-color: #00af00\">129</span> │ dense_21[<span style=\"color: #00af00; text-decoration-color: #00af00\">0</span>][<span style=\"color: #00af00; text-decoration-color: #00af00\">0</span>]    │\n",
       "└─────────────────────┴───────────────────┴────────────┴───────────────────┘\n",
       "</pre>\n"
      ]
     },
     "metadata": {},
     "output_type": "display_data"
    },
    {
     "data": {
      "text/plain": [
       "\u001B[1m Total params: \u001B[0m\u001B[38;5;34m4,780,417\u001B[0m (18.24 MB)\n"
      ],
      "text/html": [
       "<pre style=\"white-space:pre;overflow-x:auto;line-height:normal;font-family:Menlo,'DejaVu Sans Mono',consolas,'Courier New',monospace\"><span style=\"font-weight: bold\"> Total params: </span><span style=\"color: #00af00; text-decoration-color: #00af00\">4,780,417</span> (18.24 MB)\n",
       "</pre>\n"
      ]
     },
     "metadata": {},
     "output_type": "display_data"
    },
    {
     "data": {
      "text/plain": [
       "\u001B[1m Trainable params: \u001B[0m\u001B[38;5;34m394,497\u001B[0m (1.50 MB)\n"
      ],
      "text/html": [
       "<pre style=\"white-space:pre;overflow-x:auto;line-height:normal;font-family:Menlo,'DejaVu Sans Mono',consolas,'Courier New',monospace\"><span style=\"font-weight: bold\"> Trainable params: </span><span style=\"color: #00af00; text-decoration-color: #00af00\">394,497</span> (1.50 MB)\n",
       "</pre>\n"
      ]
     },
     "metadata": {},
     "output_type": "display_data"
    },
    {
     "data": {
      "text/plain": [
       "\u001B[1m Non-trainable params: \u001B[0m\u001B[38;5;34m4,385,920\u001B[0m (16.73 MB)\n"
      ],
      "text/html": [
       "<pre style=\"white-space:pre;overflow-x:auto;line-height:normal;font-family:Menlo,'DejaVu Sans Mono',consolas,'Courier New',monospace\"><span style=\"font-weight: bold\"> Non-trainable params: </span><span style=\"color: #00af00; text-decoration-color: #00af00\">4,385,920</span> (16.73 MB)\n",
       "</pre>\n"
      ]
     },
     "metadata": {},
     "output_type": "display_data"
    }
   ],
   "execution_count": 60
  },
  {
   "metadata": {
    "ExecuteTime": {
     "end_time": "2025-04-25T11:08:59.880418Z",
     "start_time": "2025-04-25T11:08:59.869372Z"
    }
   },
   "cell_type": "code",
   "source": "model.compile(loss='binary_crossentropy', optimizer='adam', metrics=['accuracy'])",
   "id": "35417b1c01d0c316",
   "outputs": [],
   "execution_count": 61
  },
  {
   "metadata": {
    "ExecuteTime": {
     "end_time": "2025-04-25T11:11:22.134757Z",
     "start_time": "2025-04-25T11:09:00.810449Z"
    }
   },
   "cell_type": "code",
   "source": [
    "early_stopping_cb = tf.keras.callbacks.EarlyStopping(\n",
    "        patience=2,\n",
    "        monitor='val_loss',\n",
    "        min_delta=0.003,\n",
    "        restore_best_weights=True\n",
    "        )\n",
    "model.fit(train_ds, epochs=20, validation_data=val_ds, verbose=2, callbacks=[early_stopping_cb])"
   ],
   "id": "a397b61cc93be57e",
   "outputs": [
    {
     "name": "stdout",
     "output_type": "stream",
     "text": [
      "Epoch 1/20\n",
      "196/196 - 21s - 107ms/step - accuracy: 0.6090 - loss: 0.7174 - val_accuracy: 0.6932 - val_loss: 0.5991\n",
      "Epoch 2/20\n",
      "196/196 - 17s - 88ms/step - accuracy: 0.6575 - loss: 0.6200 - val_accuracy: 0.7112 - val_loss: 0.5792\n",
      "Epoch 3/20\n",
      "196/196 - 18s - 90ms/step - accuracy: 0.6660 - loss: 0.6104 - val_accuracy: 0.6516 - val_loss: 0.6151\n",
      "Epoch 4/20\n",
      "196/196 - 17s - 87ms/step - accuracy: 0.6570 - loss: 0.6220 - val_accuracy: 0.7016 - val_loss: 0.5730\n",
      "Epoch 5/20\n",
      "196/196 - 17s - 86ms/step - accuracy: 0.6746 - loss: 0.6062 - val_accuracy: 0.6944 - val_loss: 0.5887\n",
      "Epoch 6/20\n",
      "196/196 - 17s - 87ms/step - accuracy: 0.6748 - loss: 0.6046 - val_accuracy: 0.7180 - val_loss: 0.5692\n",
      "Epoch 7/20\n",
      "196/196 - 17s - 88ms/step - accuracy: 0.6784 - loss: 0.5978 - val_accuracy: 0.7104 - val_loss: 0.5717\n",
      "Epoch 8/20\n",
      "196/196 - 17s - 88ms/step - accuracy: 0.6789 - loss: 0.6015 - val_accuracy: 0.6520 - val_loss: 0.6059\n"
     ]
    },
    {
     "data": {
      "text/plain": [
       "<keras.src.callbacks.history.History at 0x4f8cc27b0>"
      ]
     },
     "execution_count": 62,
     "metadata": {},
     "output_type": "execute_result"
    }
   ],
   "execution_count": 62
  },
  {
   "metadata": {
    "ExecuteTime": {
     "end_time": "2025-04-25T11:19:35.403860Z",
     "start_time": "2025-04-25T11:19:35.301750Z"
    }
   },
   "cell_type": "code",
   "source": "model.save(\"models/bert_tiny_en_uncased_finetuned.keras\")",
   "id": "8bb0b6b41a6af8d4",
   "outputs": [],
   "execution_count": 74
  },
  {
   "metadata": {},
   "cell_type": "markdown",
   "source": "## Zweiter Versuch",
   "id": "64a768740705085f"
  },
  {
   "metadata": {
    "ExecuteTime": {
     "end_time": "2025-04-25T11:12:54.827064Z",
     "start_time": "2025-04-25T11:12:54.118392Z"
    }
   },
   "cell_type": "code",
   "source": [
    "preprocessor2 = keras_hub.models.BertPreprocessor.from_preset(bert_name)\n",
    "backbone2 = keras_hub.models.BertBackbone.from_preset(bert_name)\n",
    "\n",
    "input2 = tf.keras.Input(shape=(), dtype=tf.string, name='text')\n",
    "output2 = backbone2(preprocessor2(input2))\n",
    "net2 = output2['pooled_output']\n",
    "#net = output['sequence_output'][:, -1, :]\n",
    "# net = tf.keras.layers.Dropout(0.1)(net)\n",
    "#net2 = tf.keras.layers.Dense(1, activation='sigmoid')(net2)\n",
    "net2 = tf.keras.layers.Dense(2, activation='softmax')(net2)\n",
    "model2 = tf.keras.Model(input2, net2)\n",
    "model2.summary()"
   ],
   "id": "49582a3cbcb37080",
   "outputs": [
    {
     "data": {
      "text/plain": [
       "\u001B[1mModel: \"functional_8\"\u001B[0m\n"
      ],
      "text/html": [
       "<pre style=\"white-space:pre;overflow-x:auto;line-height:normal;font-family:Menlo,'DejaVu Sans Mono',consolas,'Courier New',monospace\"><span style=\"font-weight: bold\">Model: \"functional_8\"</span>\n",
       "</pre>\n"
      ]
     },
     "metadata": {},
     "output_type": "display_data"
    },
    {
     "data": {
      "text/plain": [
       "┏━━━━━━━━━━━━━━━━━━━━━┳━━━━━━━━━━━━━━━━━━━┳━━━━━━━━━━━━┳━━━━━━━━━━━━━━━━━━━┓\n",
       "┃\u001B[1m \u001B[0m\u001B[1mLayer (type)       \u001B[0m\u001B[1m \u001B[0m┃\u001B[1m \u001B[0m\u001B[1mOutput Shape     \u001B[0m\u001B[1m \u001B[0m┃\u001B[1m \u001B[0m\u001B[1m   Param #\u001B[0m\u001B[1m \u001B[0m┃\u001B[1m \u001B[0m\u001B[1mConnected to     \u001B[0m\u001B[1m \u001B[0m┃\n",
       "┡━━━━━━━━━━━━━━━━━━━━━╇━━━━━━━━━━━━━━━━━━━╇━━━━━━━━━━━━╇━━━━━━━━━━━━━━━━━━━┩\n",
       "│ text (\u001B[38;5;33mInputLayer\u001B[0m)   │ (\u001B[38;5;45mNone\u001B[0m)            │          \u001B[38;5;34m0\u001B[0m │ -                 │\n",
       "├─────────────────────┼───────────────────┼────────────┼───────────────────┤\n",
       "│ bert_text_classifi… │ [(\u001B[38;5;45mNone\u001B[0m, \u001B[38;5;34m512\u001B[0m),     │          \u001B[38;5;34m0\u001B[0m │ text[\u001B[38;5;34m0\u001B[0m][\u001B[38;5;34m0\u001B[0m]        │\n",
       "│ (\u001B[38;5;33mBertTextClassifie…\u001B[0m │ (\u001B[38;5;45mNone\u001B[0m, \u001B[38;5;34m512\u001B[0m),      │            │                   │\n",
       "│                     │ (\u001B[38;5;45mNone\u001B[0m, \u001B[38;5;34m512\u001B[0m)]      │            │                   │\n",
       "├─────────────────────┼───────────────────┼────────────┼───────────────────┤\n",
       "│ bert_backbone       │ [(\u001B[38;5;45mNone\u001B[0m, \u001B[38;5;34m128\u001B[0m),     │  \u001B[38;5;34m4,385,920\u001B[0m │ bert_text_classi… │\n",
       "│ (\u001B[38;5;33mBertBackbone\u001B[0m)      │ (\u001B[38;5;45mNone\u001B[0m, \u001B[38;5;34m512\u001B[0m, \u001B[38;5;34m128\u001B[0m)] │            │ bert_text_classi… │\n",
       "│                     │                   │            │ bert_text_classi… │\n",
       "├─────────────────────┼───────────────────┼────────────┼───────────────────┤\n",
       "│ dense_23 (\u001B[38;5;33mDense\u001B[0m)    │ (\u001B[38;5;45mNone\u001B[0m, \u001B[38;5;34m2\u001B[0m)         │        \u001B[38;5;34m258\u001B[0m │ bert_backbone[\u001B[38;5;34m0\u001B[0m]… │\n",
       "└─────────────────────┴───────────────────┴────────────┴───────────────────┘\n"
      ],
      "text/html": [
       "<pre style=\"white-space:pre;overflow-x:auto;line-height:normal;font-family:Menlo,'DejaVu Sans Mono',consolas,'Courier New',monospace\">┏━━━━━━━━━━━━━━━━━━━━━┳━━━━━━━━━━━━━━━━━━━┳━━━━━━━━━━━━┳━━━━━━━━━━━━━━━━━━━┓\n",
       "┃<span style=\"font-weight: bold\"> Layer (type)        </span>┃<span style=\"font-weight: bold\"> Output Shape      </span>┃<span style=\"font-weight: bold\">    Param # </span>┃<span style=\"font-weight: bold\"> Connected to      </span>┃\n",
       "┡━━━━━━━━━━━━━━━━━━━━━╇━━━━━━━━━━━━━━━━━━━╇━━━━━━━━━━━━╇━━━━━━━━━━━━━━━━━━━┩\n",
       "│ text (<span style=\"color: #0087ff; text-decoration-color: #0087ff\">InputLayer</span>)   │ (<span style=\"color: #00d7ff; text-decoration-color: #00d7ff\">None</span>)            │          <span style=\"color: #00af00; text-decoration-color: #00af00\">0</span> │ -                 │\n",
       "├─────────────────────┼───────────────────┼────────────┼───────────────────┤\n",
       "│ bert_text_classifi… │ [(<span style=\"color: #00d7ff; text-decoration-color: #00d7ff\">None</span>, <span style=\"color: #00af00; text-decoration-color: #00af00\">512</span>),     │          <span style=\"color: #00af00; text-decoration-color: #00af00\">0</span> │ text[<span style=\"color: #00af00; text-decoration-color: #00af00\">0</span>][<span style=\"color: #00af00; text-decoration-color: #00af00\">0</span>]        │\n",
       "│ (<span style=\"color: #0087ff; text-decoration-color: #0087ff\">BertTextClassifie…</span> │ (<span style=\"color: #00d7ff; text-decoration-color: #00d7ff\">None</span>, <span style=\"color: #00af00; text-decoration-color: #00af00\">512</span>),      │            │                   │\n",
       "│                     │ (<span style=\"color: #00d7ff; text-decoration-color: #00d7ff\">None</span>, <span style=\"color: #00af00; text-decoration-color: #00af00\">512</span>)]      │            │                   │\n",
       "├─────────────────────┼───────────────────┼────────────┼───────────────────┤\n",
       "│ bert_backbone       │ [(<span style=\"color: #00d7ff; text-decoration-color: #00d7ff\">None</span>, <span style=\"color: #00af00; text-decoration-color: #00af00\">128</span>),     │  <span style=\"color: #00af00; text-decoration-color: #00af00\">4,385,920</span> │ bert_text_classi… │\n",
       "│ (<span style=\"color: #0087ff; text-decoration-color: #0087ff\">BertBackbone</span>)      │ (<span style=\"color: #00d7ff; text-decoration-color: #00d7ff\">None</span>, <span style=\"color: #00af00; text-decoration-color: #00af00\">512</span>, <span style=\"color: #00af00; text-decoration-color: #00af00\">128</span>)] │            │ bert_text_classi… │\n",
       "│                     │                   │            │ bert_text_classi… │\n",
       "├─────────────────────┼───────────────────┼────────────┼───────────────────┤\n",
       "│ dense_23 (<span style=\"color: #0087ff; text-decoration-color: #0087ff\">Dense</span>)    │ (<span style=\"color: #00d7ff; text-decoration-color: #00d7ff\">None</span>, <span style=\"color: #00af00; text-decoration-color: #00af00\">2</span>)         │        <span style=\"color: #00af00; text-decoration-color: #00af00\">258</span> │ bert_backbone[<span style=\"color: #00af00; text-decoration-color: #00af00\">0</span>]… │\n",
       "└─────────────────────┴───────────────────┴────────────┴───────────────────┘\n",
       "</pre>\n"
      ]
     },
     "metadata": {},
     "output_type": "display_data"
    },
    {
     "data": {
      "text/plain": [
       "\u001B[1m Total params: \u001B[0m\u001B[38;5;34m4,386,178\u001B[0m (16.73 MB)\n"
      ],
      "text/html": [
       "<pre style=\"white-space:pre;overflow-x:auto;line-height:normal;font-family:Menlo,'DejaVu Sans Mono',consolas,'Courier New',monospace\"><span style=\"font-weight: bold\"> Total params: </span><span style=\"color: #00af00; text-decoration-color: #00af00\">4,386,178</span> (16.73 MB)\n",
       "</pre>\n"
      ]
     },
     "metadata": {},
     "output_type": "display_data"
    },
    {
     "data": {
      "text/plain": [
       "\u001B[1m Trainable params: \u001B[0m\u001B[38;5;34m4,386,178\u001B[0m (16.73 MB)\n"
      ],
      "text/html": [
       "<pre style=\"white-space:pre;overflow-x:auto;line-height:normal;font-family:Menlo,'DejaVu Sans Mono',consolas,'Courier New',monospace\"><span style=\"font-weight: bold\"> Trainable params: </span><span style=\"color: #00af00; text-decoration-color: #00af00\">4,386,178</span> (16.73 MB)\n",
       "</pre>\n"
      ]
     },
     "metadata": {},
     "output_type": "display_data"
    },
    {
     "data": {
      "text/plain": [
       "\u001B[1m Non-trainable params: \u001B[0m\u001B[38;5;34m0\u001B[0m (0.00 B)\n"
      ],
      "text/html": [
       "<pre style=\"white-space:pre;overflow-x:auto;line-height:normal;font-family:Menlo,'DejaVu Sans Mono',consolas,'Courier New',monospace\"><span style=\"font-weight: bold\"> Non-trainable params: </span><span style=\"color: #00af00; text-decoration-color: #00af00\">0</span> (0.00 B)\n",
       "</pre>\n"
      ]
     },
     "metadata": {},
     "output_type": "display_data"
    }
   ],
   "execution_count": 64
  },
  {
   "metadata": {
    "ExecuteTime": {
     "end_time": "2025-04-25T11:13:16.311505Z",
     "start_time": "2025-04-25T11:13:16.300392Z"
    }
   },
   "cell_type": "code",
   "source": [
    "loss_fn = tf.keras.losses.SparseCategoricalCrossentropy(from_logits=False)\n",
    "model2.compile(loss=loss_fn, optimizer='adam', metrics=['accuracy'])"
   ],
   "id": "d69090d1e82fa9ad",
   "outputs": [],
   "execution_count": 65
  },
  {
   "metadata": {
    "ExecuteTime": {
     "end_time": "2025-04-25T11:17:01.793417Z",
     "start_time": "2025-04-25T11:13:27.344603Z"
    }
   },
   "cell_type": "code",
   "source": [
    "early_stopping_cb = tf.keras.callbacks.EarlyStopping(\n",
    "        patience=2,\n",
    "        monitor='val_loss',\n",
    "        min_delta=0.003,\n",
    "        restore_best_weights=True\n",
    "        )\n",
    "model2.fit(train_ds, epochs=20, validation_data=val_ds, verbose=2, callbacks=[early_stopping_cb])"
   ],
   "id": "90eed839f7faf028",
   "outputs": [
    {
     "name": "stdout",
     "output_type": "stream",
     "text": [
      "Epoch 1/20\n",
      "196/196 - 49s - 248ms/step - accuracy: 0.5800 - loss: 0.6595 - val_accuracy: 0.7420 - val_loss: 0.5689\n",
      "Epoch 2/20\n",
      "196/196 - 40s - 204ms/step - accuracy: 0.7996 - loss: 0.4418 - val_accuracy: 0.8080 - val_loss: 0.4107\n",
      "Epoch 3/20\n",
      "196/196 - 41s - 211ms/step - accuracy: 0.8954 - loss: 0.2556 - val_accuracy: 0.8388 - val_loss: 0.3965\n",
      "Epoch 4/20\n",
      "196/196 - 44s - 224ms/step - accuracy: 0.9438 - loss: 0.1480 - val_accuracy: 0.8408 - val_loss: 0.5755\n",
      "Epoch 5/20\n",
      "196/196 - 40s - 206ms/step - accuracy: 0.9760 - loss: 0.0724 - val_accuracy: 0.8340 - val_loss: 0.7314\n"
     ]
    },
    {
     "data": {
      "text/plain": [
       "<keras.src.callbacks.history.History at 0x4f8c1dd30>"
      ]
     },
     "execution_count": 66,
     "metadata": {},
     "output_type": "execute_result"
    }
   ],
   "execution_count": 66
  },
  {
   "metadata": {
    "ExecuteTime": {
     "end_time": "2025-04-25T11:19:27.402646Z",
     "start_time": "2025-04-25T11:19:27.256232Z"
    }
   },
   "cell_type": "code",
   "source": "model2.save(\"models/bert_tiny_en_uncased_full_finetuned_2.keras\")",
   "id": "11cecd2f9980e5b7",
   "outputs": [],
   "execution_count": 73
  },
  {
   "metadata": {},
   "cell_type": "markdown",
   "source": "## 3. Versuch",
   "id": "c2823f7d0a9c605d"
  },
  {
   "metadata": {
    "ExecuteTime": {
     "end_time": "2025-04-25T11:19:51.340389Z",
     "start_time": "2025-04-25T11:19:50.381824Z"
    }
   },
   "cell_type": "code",
   "source": [
    "classifier = keras_hub.models.TextClassifier.from_preset(bert_name, sequence_lengths=1024, num_classes=2)\n",
    "classifier.summary()"
   ],
   "id": "4635871481e99c55",
   "outputs": [
    {
     "data": {
      "text/plain": [
       "\u001B[1mPreprocessor: \"bert_text_classifier_preprocessor_7\"\u001B[0m\n"
      ],
      "text/html": [
       "<pre style=\"white-space:pre;overflow-x:auto;line-height:normal;font-family:Menlo,'DejaVu Sans Mono',consolas,'Courier New',monospace\"><span style=\"font-weight: bold\">Preprocessor: \"bert_text_classifier_preprocessor_7\"</span>\n",
       "</pre>\n"
      ]
     },
     "metadata": {},
     "output_type": "display_data"
    },
    {
     "data": {
      "text/plain": [
       "┏━━━━━━━━━━━━━━━━━━━━━━━━━━━━━━━━━━━━━━━━━━━━━━━━━━━━━━━━━━━━━━━┳━━━━━━━━━━━━━━━━━━━━━━━━━━━━━━━━━━━━━━━━━━┓\n",
       "┃\u001B[1m \u001B[0m\u001B[1mLayer (type)                                                 \u001B[0m\u001B[1m \u001B[0m┃\u001B[1m \u001B[0m\u001B[1m                                  Config\u001B[0m\u001B[1m \u001B[0m┃\n",
       "┡━━━━━━━━━━━━━━━━━━━━━━━━━━━━━━━━━━━━━━━━━━━━━━━━━━━━━━━━━━━━━━━╇━━━━━━━━━━━━━━━━━━━━━━━━━━━━━━━━━━━━━━━━━━┩\n",
       "│ bert_tokenizer (\u001B[38;5;33mBertTokenizer\u001B[0m)                                │                       Vocab size: \u001B[38;5;34m30,522\u001B[0m │\n",
       "└───────────────────────────────────────────────────────────────┴──────────────────────────────────────────┘\n"
      ],
      "text/html": [
       "<pre style=\"white-space:pre;overflow-x:auto;line-height:normal;font-family:Menlo,'DejaVu Sans Mono',consolas,'Courier New',monospace\">┏━━━━━━━━━━━━━━━━━━━━━━━━━━━━━━━━━━━━━━━━━━━━━━━━━━━━━━━━━━━━━━━┳━━━━━━━━━━━━━━━━━━━━━━━━━━━━━━━━━━━━━━━━━━┓\n",
       "┃<span style=\"font-weight: bold\"> Layer (type)                                                  </span>┃<span style=\"font-weight: bold\">                                   Config </span>┃\n",
       "┡━━━━━━━━━━━━━━━━━━━━━━━━━━━━━━━━━━━━━━━━━━━━━━━━━━━━━━━━━━━━━━━╇━━━━━━━━━━━━━━━━━━━━━━━━━━━━━━━━━━━━━━━━━━┩\n",
       "│ bert_tokenizer (<span style=\"color: #0087ff; text-decoration-color: #0087ff\">BertTokenizer</span>)                                │                       Vocab size: <span style=\"color: #00af00; text-decoration-color: #00af00\">30,522</span> │\n",
       "└───────────────────────────────────────────────────────────────┴──────────────────────────────────────────┘\n",
       "</pre>\n"
      ]
     },
     "metadata": {},
     "output_type": "display_data"
    },
    {
     "data": {
      "text/plain": [
       "\u001B[1mModel: \"bert_text_classifier_3\"\u001B[0m\n"
      ],
      "text/html": [
       "<pre style=\"white-space:pre;overflow-x:auto;line-height:normal;font-family:Menlo,'DejaVu Sans Mono',consolas,'Courier New',monospace\"><span style=\"font-weight: bold\">Model: \"bert_text_classifier_3\"</span>\n",
       "</pre>\n"
      ]
     },
     "metadata": {},
     "output_type": "display_data"
    },
    {
     "data": {
      "text/plain": [
       "┏━━━━━━━━━━━━━━━━━━━━━━━━━━━━━━━┳━━━━━━━━━━━━━━━━━━━━━━━━━━━┳━━━━━━━━━━━━━━━━━┳━━━━━━━━━━━━━━━━━━━━━━━━━━━━┓\n",
       "┃\u001B[1m \u001B[0m\u001B[1mLayer (type)                 \u001B[0m\u001B[1m \u001B[0m┃\u001B[1m \u001B[0m\u001B[1mOutput Shape             \u001B[0m\u001B[1m \u001B[0m┃\u001B[1m \u001B[0m\u001B[1m        Param #\u001B[0m\u001B[1m \u001B[0m┃\u001B[1m \u001B[0m\u001B[1mConnected to              \u001B[0m\u001B[1m \u001B[0m┃\n",
       "┡━━━━━━━━━━━━━━━━━━━━━━━━━━━━━━━╇━━━━━━━━━━━━━━━━━━━━━━━━━━━╇━━━━━━━━━━━━━━━━━╇━━━━━━━━━━━━━━━━━━━━━━━━━━━━┩\n",
       "│ padding_mask (\u001B[38;5;33mInputLayer\u001B[0m)     │ (\u001B[38;5;45mNone\u001B[0m, \u001B[38;5;45mNone\u001B[0m)              │               \u001B[38;5;34m0\u001B[0m │ -                          │\n",
       "├───────────────────────────────┼───────────────────────────┼─────────────────┼────────────────────────────┤\n",
       "│ segment_ids (\u001B[38;5;33mInputLayer\u001B[0m)      │ (\u001B[38;5;45mNone\u001B[0m, \u001B[38;5;45mNone\u001B[0m)              │               \u001B[38;5;34m0\u001B[0m │ -                          │\n",
       "├───────────────────────────────┼───────────────────────────┼─────────────────┼────────────────────────────┤\n",
       "│ token_ids (\u001B[38;5;33mInputLayer\u001B[0m)        │ (\u001B[38;5;45mNone\u001B[0m, \u001B[38;5;45mNone\u001B[0m)              │               \u001B[38;5;34m0\u001B[0m │ -                          │\n",
       "├───────────────────────────────┼───────────────────────────┼─────────────────┼────────────────────────────┤\n",
       "│ bert_backbone (\u001B[38;5;33mBertBackbone\u001B[0m)  │ [(\u001B[38;5;45mNone\u001B[0m, \u001B[38;5;34m128\u001B[0m), (\u001B[38;5;45mNone\u001B[0m,      │       \u001B[38;5;34m4,385,920\u001B[0m │ padding_mask[\u001B[38;5;34m0\u001B[0m][\u001B[38;5;34m0\u001B[0m],        │\n",
       "│                               │ \u001B[38;5;45mNone\u001B[0m, \u001B[38;5;34m128\u001B[0m)]               │                 │ segment_ids[\u001B[38;5;34m0\u001B[0m][\u001B[38;5;34m0\u001B[0m],         │\n",
       "│                               │                           │                 │ token_ids[\u001B[38;5;34m0\u001B[0m][\u001B[38;5;34m0\u001B[0m]            │\n",
       "├───────────────────────────────┼───────────────────────────┼─────────────────┼────────────────────────────┤\n",
       "│ classifier_dropout (\u001B[38;5;33mDropout\u001B[0m)  │ (\u001B[38;5;45mNone\u001B[0m, \u001B[38;5;34m128\u001B[0m)               │               \u001B[38;5;34m0\u001B[0m │ bert_backbone[\u001B[38;5;34m0\u001B[0m][\u001B[38;5;34m0\u001B[0m]        │\n",
       "├───────────────────────────────┼───────────────────────────┼─────────────────┼────────────────────────────┤\n",
       "│ logits (\u001B[38;5;33mDense\u001B[0m)                │ (\u001B[38;5;45mNone\u001B[0m, \u001B[38;5;34m2\u001B[0m)                 │             \u001B[38;5;34m258\u001B[0m │ classifier_dropout[\u001B[38;5;34m0\u001B[0m][\u001B[38;5;34m0\u001B[0m]   │\n",
       "└───────────────────────────────┴───────────────────────────┴─────────────────┴────────────────────────────┘\n"
      ],
      "text/html": [
       "<pre style=\"white-space:pre;overflow-x:auto;line-height:normal;font-family:Menlo,'DejaVu Sans Mono',consolas,'Courier New',monospace\">┏━━━━━━━━━━━━━━━━━━━━━━━━━━━━━━━┳━━━━━━━━━━━━━━━━━━━━━━━━━━━┳━━━━━━━━━━━━━━━━━┳━━━━━━━━━━━━━━━━━━━━━━━━━━━━┓\n",
       "┃<span style=\"font-weight: bold\"> Layer (type)                  </span>┃<span style=\"font-weight: bold\"> Output Shape              </span>┃<span style=\"font-weight: bold\">         Param # </span>┃<span style=\"font-weight: bold\"> Connected to               </span>┃\n",
       "┡━━━━━━━━━━━━━━━━━━━━━━━━━━━━━━━╇━━━━━━━━━━━━━━━━━━━━━━━━━━━╇━━━━━━━━━━━━━━━━━╇━━━━━━━━━━━━━━━━━━━━━━━━━━━━┩\n",
       "│ padding_mask (<span style=\"color: #0087ff; text-decoration-color: #0087ff\">InputLayer</span>)     │ (<span style=\"color: #00d7ff; text-decoration-color: #00d7ff\">None</span>, <span style=\"color: #00d7ff; text-decoration-color: #00d7ff\">None</span>)              │               <span style=\"color: #00af00; text-decoration-color: #00af00\">0</span> │ -                          │\n",
       "├───────────────────────────────┼───────────────────────────┼─────────────────┼────────────────────────────┤\n",
       "│ segment_ids (<span style=\"color: #0087ff; text-decoration-color: #0087ff\">InputLayer</span>)      │ (<span style=\"color: #00d7ff; text-decoration-color: #00d7ff\">None</span>, <span style=\"color: #00d7ff; text-decoration-color: #00d7ff\">None</span>)              │               <span style=\"color: #00af00; text-decoration-color: #00af00\">0</span> │ -                          │\n",
       "├───────────────────────────────┼───────────────────────────┼─────────────────┼────────────────────────────┤\n",
       "│ token_ids (<span style=\"color: #0087ff; text-decoration-color: #0087ff\">InputLayer</span>)        │ (<span style=\"color: #00d7ff; text-decoration-color: #00d7ff\">None</span>, <span style=\"color: #00d7ff; text-decoration-color: #00d7ff\">None</span>)              │               <span style=\"color: #00af00; text-decoration-color: #00af00\">0</span> │ -                          │\n",
       "├───────────────────────────────┼───────────────────────────┼─────────────────┼────────────────────────────┤\n",
       "│ bert_backbone (<span style=\"color: #0087ff; text-decoration-color: #0087ff\">BertBackbone</span>)  │ [(<span style=\"color: #00d7ff; text-decoration-color: #00d7ff\">None</span>, <span style=\"color: #00af00; text-decoration-color: #00af00\">128</span>), (<span style=\"color: #00d7ff; text-decoration-color: #00d7ff\">None</span>,      │       <span style=\"color: #00af00; text-decoration-color: #00af00\">4,385,920</span> │ padding_mask[<span style=\"color: #00af00; text-decoration-color: #00af00\">0</span>][<span style=\"color: #00af00; text-decoration-color: #00af00\">0</span>],        │\n",
       "│                               │ <span style=\"color: #00d7ff; text-decoration-color: #00d7ff\">None</span>, <span style=\"color: #00af00; text-decoration-color: #00af00\">128</span>)]               │                 │ segment_ids[<span style=\"color: #00af00; text-decoration-color: #00af00\">0</span>][<span style=\"color: #00af00; text-decoration-color: #00af00\">0</span>],         │\n",
       "│                               │                           │                 │ token_ids[<span style=\"color: #00af00; text-decoration-color: #00af00\">0</span>][<span style=\"color: #00af00; text-decoration-color: #00af00\">0</span>]            │\n",
       "├───────────────────────────────┼───────────────────────────┼─────────────────┼────────────────────────────┤\n",
       "│ classifier_dropout (<span style=\"color: #0087ff; text-decoration-color: #0087ff\">Dropout</span>)  │ (<span style=\"color: #00d7ff; text-decoration-color: #00d7ff\">None</span>, <span style=\"color: #00af00; text-decoration-color: #00af00\">128</span>)               │               <span style=\"color: #00af00; text-decoration-color: #00af00\">0</span> │ bert_backbone[<span style=\"color: #00af00; text-decoration-color: #00af00\">0</span>][<span style=\"color: #00af00; text-decoration-color: #00af00\">0</span>]        │\n",
       "├───────────────────────────────┼───────────────────────────┼─────────────────┼────────────────────────────┤\n",
       "│ logits (<span style=\"color: #0087ff; text-decoration-color: #0087ff\">Dense</span>)                │ (<span style=\"color: #00d7ff; text-decoration-color: #00d7ff\">None</span>, <span style=\"color: #00af00; text-decoration-color: #00af00\">2</span>)                 │             <span style=\"color: #00af00; text-decoration-color: #00af00\">258</span> │ classifier_dropout[<span style=\"color: #00af00; text-decoration-color: #00af00\">0</span>][<span style=\"color: #00af00; text-decoration-color: #00af00\">0</span>]   │\n",
       "└───────────────────────────────┴───────────────────────────┴─────────────────┴────────────────────────────┘\n",
       "</pre>\n"
      ]
     },
     "metadata": {},
     "output_type": "display_data"
    },
    {
     "data": {
      "text/plain": [
       "\u001B[1m Total params: \u001B[0m\u001B[38;5;34m4,386,178\u001B[0m (16.73 MB)\n"
      ],
      "text/html": [
       "<pre style=\"white-space:pre;overflow-x:auto;line-height:normal;font-family:Menlo,'DejaVu Sans Mono',consolas,'Courier New',monospace\"><span style=\"font-weight: bold\"> Total params: </span><span style=\"color: #00af00; text-decoration-color: #00af00\">4,386,178</span> (16.73 MB)\n",
       "</pre>\n"
      ]
     },
     "metadata": {},
     "output_type": "display_data"
    },
    {
     "data": {
      "text/plain": [
       "\u001B[1m Trainable params: \u001B[0m\u001B[38;5;34m4,386,178\u001B[0m (16.73 MB)\n"
      ],
      "text/html": [
       "<pre style=\"white-space:pre;overflow-x:auto;line-height:normal;font-family:Menlo,'DejaVu Sans Mono',consolas,'Courier New',monospace\"><span style=\"font-weight: bold\"> Trainable params: </span><span style=\"color: #00af00; text-decoration-color: #00af00\">4,386,178</span> (16.73 MB)\n",
       "</pre>\n"
      ]
     },
     "metadata": {},
     "output_type": "display_data"
    },
    {
     "data": {
      "text/plain": [
       "\u001B[1m Non-trainable params: \u001B[0m\u001B[38;5;34m0\u001B[0m (0.00 B)\n"
      ],
      "text/html": [
       "<pre style=\"white-space:pre;overflow-x:auto;line-height:normal;font-family:Menlo,'DejaVu Sans Mono',consolas,'Courier New',monospace\"><span style=\"font-weight: bold\"> Non-trainable params: </span><span style=\"color: #00af00; text-decoration-color: #00af00\">0</span> (0.00 B)\n",
       "</pre>\n"
      ]
     },
     "metadata": {},
     "output_type": "display_data"
    }
   ],
   "execution_count": 75
  },
  {
   "metadata": {
    "ExecuteTime": {
     "end_time": "2025-04-25T11:24:16.915345Z",
     "start_time": "2025-04-25T11:20:02.801986Z"
    }
   },
   "cell_type": "code",
   "source": [
    "early_stopping_cb = tf.keras.callbacks.EarlyStopping(\n",
    "        patience=2,\n",
    "        monitor='val_loss',\n",
    "        min_delta=0.003,\n",
    "        restore_best_weights=True\n",
    "        )\n",
    "classifier.fit(train_ds, epochs=20, validation_data=val_ds, verbose=2, callbacks=[early_stopping_cb])\n",
    "classifier.save(\"models/classifier_bert_tiny_en_uncased_1024_2_classifier.keras\")"
   ],
   "id": "6a45ec10b65ee01e",
   "outputs": [
    {
     "name": "stdout",
     "output_type": "stream",
     "text": [
      "Epoch 1/20\n",
      "196/196 - 46s - 236ms/step - loss: 0.5607 - sparse_categorical_accuracy: 0.7210 - val_loss: 0.3867 - val_sparse_categorical_accuracy: 0.8376\n",
      "Epoch 2/20\n",
      "196/196 - 41s - 208ms/step - loss: 0.3399 - sparse_categorical_accuracy: 0.8600 - val_loss: 0.3277 - val_sparse_categorical_accuracy: 0.8628\n",
      "Epoch 3/20\n",
      "196/196 - 41s - 211ms/step - loss: 0.2821 - sparse_categorical_accuracy: 0.8873 - val_loss: 0.3121 - val_sparse_categorical_accuracy: 0.8700\n",
      "Epoch 4/20\n",
      "196/196 - 43s - 220ms/step - loss: 0.2413 - sparse_categorical_accuracy: 0.9062 - val_loss: 0.3052 - val_sparse_categorical_accuracy: 0.8808\n",
      "Epoch 5/20\n",
      "196/196 - 42s - 212ms/step - loss: 0.2000 - sparse_categorical_accuracy: 0.9266 - val_loss: 0.3303 - val_sparse_categorical_accuracy: 0.8800\n",
      "Epoch 6/20\n",
      "196/196 - 41s - 207ms/step - loss: 0.1742 - sparse_categorical_accuracy: 0.9376 - val_loss: 0.3209 - val_sparse_categorical_accuracy: 0.8844\n"
     ]
    }
   ],
   "execution_count": 77
  }
 ],
 "metadata": {
  "kernelspec": {
   "display_name": "Python 3",
   "language": "python",
   "name": "python3"
  },
  "language_info": {
   "codemirror_mode": {
    "name": "ipython",
    "version": 2
   },
   "file_extension": ".py",
   "mimetype": "text/x-python",
   "name": "python",
   "nbconvert_exporter": "python",
   "pygments_lexer": "ipython2",
   "version": "2.7.6"
  }
 },
 "nbformat": 4,
 "nbformat_minor": 5
}
