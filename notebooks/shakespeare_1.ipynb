{
 "cells": [
  {
   "metadata": {
    "ExecuteTime": {
     "end_time": "2025-03-15T08:54:16.253867Z",
     "start_time": "2025-03-15T08:54:11.281512Z"
    }
   },
   "cell_type": "code",
   "source": [
    "from importlib import reload\n",
    "\n",
    "import numpy as np\n",
    "import matplotlib.pyplot as plt\n",
    "import os\n",
    "\n",
    "import torch\n",
    "\n",
    "ROOT_DIRECTORY = \"/Users/thomasbayer/data/\"\n",
    "TEXT_DIRECTORY = os.path.join(ROOT_DIRECTORY, \"data_science/text/\")\n",
    "MODEL_ROOT = os.path.join(ROOT_DIRECTORY, \"data_science/models/\")"
   ],
   "id": "deb989e82be789a3",
   "outputs": [],
   "execution_count": 1
  },
  {
   "metadata": {
    "ExecuteTime": {
     "end_time": "2025-03-15T08:54:45.150468Z",
     "start_time": "2025-03-15T08:54:45.147498Z"
    }
   },
   "cell_type": "code",
   "source": [
    "filepath = os.path.join(TEXT_DIRECTORY, \"shakespeare.txt\")\n",
    "\n",
    "with open(filepath) as f:\n",
    "    shakespeare_text = f.read()\n",
    "\n",
    "print(shakespeare_text[:148])\n",
    "#shakespeare_tensor = tf.constant([shakespeare_text])"
   ],
   "id": "579247baf8ffa1f7",
   "outputs": [
    {
     "name": "stdout",
     "output_type": "stream",
     "text": [
      "First Citizen:\n",
      "Before we proceed any further, hear me speak.\n",
      "\n",
      "All:\n",
      "Speak, speak.\n",
      "\n",
      "First Citizen:\n",
      "You are all resolved rather to die than to famish?\n",
      "\n"
     ]
    }
   ],
   "execution_count": 3
  },
  {
   "metadata": {
    "ExecuteTime": {
     "end_time": "2025-03-15T09:49:36.324734Z",
     "start_time": "2025-03-15T09:49:35.987112Z"
    }
   },
   "cell_type": "code",
   "source": [
    "from datasets import load_dataset\n",
    "\n",
    "dataset = load_dataset(\"text\", data_files={\"train\": filepath})\n",
    "for x in dataset[\"train\"].take(3):\n",
    "    print(x)\n"
   ],
   "id": "4ac5d763c800fb28",
   "outputs": [
    {
     "name": "stdout",
     "output_type": "stream",
     "text": [
      "{'text': 'First Citizen:'}\n",
      "{'text': 'Before we proceed any further, hear me speak.'}\n",
      "{'text': ''}\n"
     ]
    }
   ],
   "execution_count": 5
  },
  {
   "metadata": {
    "ExecuteTime": {
     "end_time": "2025-03-15T10:04:16.725247Z",
     "start_time": "2025-03-15T10:04:16.715192Z"
    }
   },
   "cell_type": "code",
   "source": [
    "n_steps = 100\n",
    "dataset.window(n_steps, stride=1, drop_remainder=True)"
   ],
   "id": "d6538a195341c75e",
   "outputs": [
    {
     "ename": "AttributeError",
     "evalue": "'DatasetDict' object has no attribute 'window'",
     "output_type": "error",
     "traceback": [
      "\u001B[0;31m---------------------------------------------------------------------------\u001B[0m",
      "\u001B[0;31mAttributeError\u001B[0m                            Traceback (most recent call last)",
      "Cell \u001B[0;32mIn[7], line 2\u001B[0m\n\u001B[1;32m      1\u001B[0m n_steps \u001B[38;5;241m=\u001B[39m \u001B[38;5;241m100\u001B[39m\n\u001B[0;32m----> 2\u001B[0m \u001B[43mdataset\u001B[49m\u001B[38;5;241;43m.\u001B[39;49m\u001B[43mwindow\u001B[49m(n_steps, stride\u001B[38;5;241m=\u001B[39m\u001B[38;5;241m1\u001B[39m, drop_remainder\u001B[38;5;241m=\u001B[39m\u001B[38;5;28;01mTrue\u001B[39;00m)\n",
      "\u001B[0;31mAttributeError\u001B[0m: 'DatasetDict' object has no attribute 'window'"
     ]
    }
   ],
   "execution_count": 7
  }
 ],
 "metadata": {
  "kernelspec": {
   "display_name": "Python 3",
   "language": "python",
   "name": "python3"
  },
  "language_info": {
   "codemirror_mode": {
    "name": "ipython",
    "version": 2
   },
   "file_extension": ".py",
   "mimetype": "text/x-python",
   "name": "python",
   "nbconvert_exporter": "python",
   "pygments_lexer": "ipython2",
   "version": "2.7.6"
  }
 },
 "nbformat": 4,
 "nbformat_minor": 5
}
