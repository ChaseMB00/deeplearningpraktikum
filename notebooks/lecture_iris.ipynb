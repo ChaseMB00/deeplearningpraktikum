{
 "cells": [
  {
   "cell_type": "code",
   "id": "initial_id",
   "metadata": {
    "collapsed": true,
    "ExecuteTime": {
     "end_time": "2025-03-14T08:51:16.186400Z",
     "start_time": "2025-03-14T08:51:12.858370Z"
    }
   },
   "source": [
    "from packaging import version\n",
    "import sklearn\n",
    "import tensorflow as tf\n",
    "\n",
    "print(f\"tensorflow version {tf.__version__}\")\n",
    "import matplotlib.pyplot as plt\n",
    "\n",
    "plt.rc('font', size=14)\n",
    "plt.rc('axes', labelsize=14, titlesize=14)\n",
    "plt.rc('legend', fontsize=14)\n",
    "plt.rc('xtick', labelsize=10)\n",
    "plt.rc('ytick', labelsize=10)"
   ],
   "outputs": [],
   "execution_count": 2
  },
  {
   "metadata": {
    "ExecuteTime": {
     "end_time": "2025-03-14T08:51:16.301843Z",
     "start_time": "2025-03-14T08:51:16.189954Z"
    }
   },
   "cell_type": "code",
   "source": [
    "import numpy as np\n",
    "from sklearn.datasets import load_iris\n",
    "from sklearn.linear_model import Perceptron\n",
    "\n",
    "iris = load_iris(as_frame=True)"
   ],
   "id": "9982237cb35e6465",
   "outputs": [],
   "execution_count": 3
  },
  {
   "metadata": {},
   "cell_type": "markdown",
   "source": "",
   "id": "c995e0b4013a0be5"
  },
  {
   "metadata": {
    "ExecuteTime": {
     "end_time": "2025-03-14T08:51:16.619014Z",
     "start_time": "2025-03-14T08:51:16.616864Z"
    }
   },
   "cell_type": "code",
   "source": [
    "X = iris.data[[\"petal length (cm)\", \"petal width (cm)\"]].values\n",
    "y = (iris.target == 0)  # Iris setosa"
   ],
   "id": "c3c3b239351e5478",
   "outputs": [],
   "execution_count": 4
  },
  {
   "metadata": {
    "ExecuteTime": {
     "end_time": "2025-03-14T08:51:18.396448Z",
     "start_time": "2025-03-14T08:51:18.388260Z"
    }
   },
   "cell_type": "code",
   "source": [
    "per_clf = Perceptron(random_state=42)\n",
    "per_clf.fit(X, y)\n",
    "accuracy = per_clf.score(X, y)\n",
    "print(f\"Accuracy: {accuracy}\")"
   ],
   "id": "3a568ac275fcf8ae",
   "outputs": [
    {
     "name": "stdout",
     "output_type": "stream",
     "text": [
      "Accuracy: 1.0\n"
     ]
    }
   ],
   "execution_count": 5
  },
  {
   "metadata": {
    "ExecuteTime": {
     "end_time": "2025-03-14T08:51:31.410134Z",
     "start_time": "2025-03-14T08:51:31.406878Z"
    }
   },
   "cell_type": "code",
   "source": [
    "X_new = [[2, 0.5], [3, 1]]\n",
    "y_pred = per_clf.predict(X_new)  # predicts True and False for these 2 flowers"
   ],
   "id": "8011514733fc513a",
   "outputs": [],
   "execution_count": 6
  },
  {
   "metadata": {
    "ExecuteTime": {
     "end_time": "2025-03-14T08:51:49.750875Z",
     "start_time": "2025-03-14T08:51:49.744745Z"
    }
   },
   "cell_type": "code",
   "source": [
    "from sklearn.model_selection import train_test_split\n",
    "\n",
    "iris = load_iris()\n",
    "X_train_full, X_test, y_train_full, y_test = train_test_split(\n",
    "        iris.data, iris.target, test_size=0.1, random_state=42\n",
    "        )\n",
    "X_train, X_valid, y_train, y_valid = train_test_split(\n",
    "        X_train_full, y_train_full, test_size=0.1, random_state=42\n",
    "        )"
   ],
   "id": "27a1b756497382fe",
   "outputs": [],
   "execution_count": 7
  },
  {
   "metadata": {
    "ExecuteTime": {
     "end_time": "2025-03-14T08:52:12.474327Z",
     "start_time": "2025-03-14T08:52:12.470398Z"
    }
   },
   "cell_type": "code",
   "source": [
    "clf = Perceptron(random_state=42)\n",
    "clf.fit(X_train, y_train)\n",
    "accuracy = clf.score(X_valid, y_valid)\n",
    "print(f\"Accuracy: {accuracy}\")"
   ],
   "id": "3eb74aca3b0f537e",
   "outputs": [
    {
     "name": "stdout",
     "output_type": "stream",
     "text": [
      "Accuracy: 0.5\n"
     ]
    }
   ],
   "execution_count": 10
  },
  {
   "metadata": {
    "ExecuteTime": {
     "end_time": "2025-03-14T08:52:47.314161Z",
     "start_time": "2025-03-14T08:52:47.145473Z"
    }
   },
   "cell_type": "code",
   "source": [
    "from sklearn.datasets import load_iris\n",
    "from sklearn.model_selection import train_test_split\n",
    "from sklearn.neural_network import MLPClassifier\n",
    "from sklearn.pipeline import make_pipeline\n",
    "\n",
    "mlp_clf = MLPClassifier(\n",
    "        hidden_layer_sizes=[5], max_iter=10_000,\n",
    "        random_state=42\n",
    "        )\n",
    "pipeline = make_pipeline(mlp_clf)\n",
    "pipeline.fit(X_train, y_train)\n",
    "accuracy = pipeline.score(X_valid, y_valid)\n",
    "accuracy"
   ],
   "id": "b7c3fb491e3c7e29",
   "outputs": [
    {
     "data": {
      "text/plain": [
       "1.0"
      ]
     },
     "execution_count": 11,
     "metadata": {},
     "output_type": "execute_result"
    }
   ],
   "execution_count": 11
  }
 ],
 "metadata": {
  "kernelspec": {
   "display_name": "Python 3",
   "language": "python",
   "name": "python3"
  },
  "language_info": {
   "codemirror_mode": {
    "name": "ipython",
    "version": 2
   },
   "file_extension": ".py",
   "mimetype": "text/x-python",
   "name": "python",
   "nbconvert_exporter": "python",
   "pygments_lexer": "ipython2",
   "version": "2.7.6"
  }
 },
 "nbformat": 4,
 "nbformat_minor": 5
}
